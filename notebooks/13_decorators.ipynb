{
 "cells": [
  {
   "cell_type": "markdown",
   "metadata": {},
   "source": [
    "## What is Decorator?\n",
    "\n",
    "- A decorator in Python is a function that takes another function as its argument, and returns yet another function. <br></br><p></p>\n",
    "\n",
    "## Application of Decorator\n",
    "- Decorators can be extremely useful as they allow the extension of an existing function, without any modification to the original function source code.\n",
    "- A few good examples are when you want to add logging, test performance, perform caching, verify permissions, and so on.\n",
    "- You can also use one when you need to run the same code on multiple functions."
   ]
  },
  {
   "cell_type": "markdown",
   "metadata": {},
   "source": [
    "**Examples**"
   ]
  },
  {
   "cell_type": "code",
   "execution_count": 1,
   "metadata": {},
   "outputs": [
    {
     "data": {
      "text/plain": [
       "['f1']"
      ]
     },
     "execution_count": 1,
     "metadata": {},
     "output_type": "execute_result"
    }
   ],
   "source": [
    "def f1():\n",
    "    print(\"f1 is called\")\n",
    "%who_ls"
   ]
  },
  {
   "cell_type": "code",
   "execution_count": 2,
   "metadata": {},
   "outputs": [
    {
     "name": "stdout",
     "output_type": "stream",
     "text": [
      "f1 is called\n",
      "None\n"
     ]
    }
   ],
   "source": [
    "# Here we can see that, a functions is used as an arguments.\n",
    "# This is the basic concept to understand Decorators.\n",
    "\n",
    "def f1():\n",
    "    print(\"f1 is called\")\n",
    "    \n",
    "def f2(f):\n",
    "    f()\n",
    "    \n",
    "a = f2(f1)\n",
    "print(a)"
   ]
  },
  {
   "cell_type": "code",
   "execution_count": 3,
   "metadata": {},
   "outputs": [
    {
     "name": "stdout",
     "output_type": "stream",
     "text": [
      "**********\n",
      "Hello\n",
      "abc\n"
     ]
    }
   ],
   "source": [
    "## the f3 function below will return a function object\n",
    "def f3(fun):\n",
    "    def wrapper():\n",
    "        print(\"*\"*10)\n",
    "        fun()\n",
    "        return \"abc\"\n",
    "    return wrapper\n",
    "\n",
    "def f():\n",
    "    print(\"Hello\")\n",
    "\n",
    "# # to run this, write like this \n",
    "a = f3(f)()\n",
    "print(a)"
   ]
  },
  {
   "cell_type": "code",
   "execution_count": 4,
   "metadata": {},
   "outputs": [
    {
     "name": "stdout",
     "output_type": "stream",
     "text": [
      "**********\n",
      "Hello\n"
     ]
    },
    {
     "data": {
      "text/plain": [
       "'abc'"
      ]
     },
     "execution_count": 4,
     "metadata": {},
     "output_type": "execute_result"
    }
   ],
   "source": [
    "# Alternative we can write the codes as shown below\n",
    "# this property we use in decorators\n",
    "\n",
    "x = f3(f)\n",
    "x()"
   ]
  },
  {
   "cell_type": "markdown",
   "metadata": {},
   "source": [
    "### A decorator in Python is a function that takes another function as its argument, and returns yet another function.\n",
    "\n",
    "- We use a decorator by placing the name of the decorator directly above the function we want to use it on. \n",
    "- You prefix the decorator function with an @ symbol."
   ]
  },
  {
   "cell_type": "markdown",
   "metadata": {},
   "source": [
    "##### Decorator Ex 1"
   ]
  },
  {
   "cell_type": "code",
   "execution_count": 5,
   "metadata": {},
   "outputs": [
    {
     "name": "stdout",
     "output_type": "stream",
     "text": [
      "**********\n",
      "Hello\n",
      "$$$$$$$$$$\n"
     ]
    },
    {
     "data": {
      "text/plain": [
       "'Chalo'"
      ]
     },
     "execution_count": 5,
     "metadata": {},
     "output_type": "execute_result"
    }
   ],
   "source": [
    "# Creating a decorator function named f1\n",
    "def f1(fun):\n",
    "    def wrapper():\n",
    "        print(\"*\"*10)\n",
    "        a = fun()\n",
    "        print(\"$\"*10)\n",
    "        return a\n",
    "    return wrapper\n",
    "\n",
    "@f1        # here we use decorators, python interpreter will read this line as x=f3(*below_function)\n",
    "def f():\n",
    "    print(\"Hello\")\n",
    "    return \"Chalo\"\n",
    "\n",
    "f()"
   ]
  },
  {
   "cell_type": "markdown",
   "metadata": {},
   "source": [
    "#### the above decorator is equivalent to"
   ]
  },
  {
   "cell_type": "code",
   "execution_count": 6,
   "metadata": {},
   "outputs": [
    {
     "name": "stdout",
     "output_type": "stream",
     "text": [
      "**********\n",
      "Hello\n",
      "$$$$$$$$$$\n"
     ]
    },
    {
     "data": {
      "text/plain": [
       "'Chalo'"
      ]
     },
     "execution_count": 6,
     "metadata": {},
     "output_type": "execute_result"
    }
   ],
   "source": [
    "def f():\n",
    "    print(\"Hello\")\n",
    "    return \"Chalo\"\n",
    "\n",
    "f = f1(f)  # Now f is pointing to wrapper()\n",
    "f()"
   ]
  },
  {
   "cell_type": "markdown",
   "metadata": {},
   "source": [
    "##### Decorator Ex 2"
   ]
  },
  {
   "cell_type": "code",
   "execution_count": 7,
   "metadata": {},
   "outputs": [
    {
     "name": "stdout",
     "output_type": "stream",
     "text": [
      "**********\n",
      "hi\n"
     ]
    }
   ],
   "source": [
    "#Use arguments in decorator function\n",
    "\n",
    "# *args is non-keyword argument\n",
    "# **kwargs is keyword arguments\n",
    "\n",
    "def f1(fun):\n",
    "    \"\"\" This is doc string of f1 function\"\"\"\n",
    "    def wrapper(*args, **kwargs): \n",
    "        print(\"*\"*10)\n",
    "        fun(*args,**kwargs)\n",
    "        # after the function\n",
    "    return wrapper\n",
    "\n",
    "@f1    \n",
    "def f2(a):\n",
    "    \"\"\" This is doc string of f2 function\"\"\"\n",
    "    print(a)\n",
    "    \n",
    "f2(a=\"hi\")"
   ]
  },
  {
   "cell_type": "markdown",
   "metadata": {},
   "source": [
    "##### Decorator Ex 3"
   ]
  },
  {
   "cell_type": "code",
   "execution_count": 8,
   "metadata": {},
   "outputs": [
    {
     "name": "stdout",
     "output_type": "stream",
     "text": [
      "**********\n"
     ]
    },
    {
     "data": {
      "text/plain": [
       "5"
      ]
     },
     "execution_count": 8,
     "metadata": {},
     "output_type": "execute_result"
    }
   ],
   "source": [
    "def f1(fun):\n",
    "    def wrapper(*args):\n",
    "        print(\"*\"*10)\n",
    "        value = fun(*args)\n",
    "        return value\n",
    "    return wrapper\n",
    "\n",
    "@f1\n",
    "def add(a,b):\n",
    "    return a+b\n",
    "\n",
    "add(2,3)"
   ]
  },
  {
   "cell_type": "markdown",
   "metadata": {},
   "source": [
    "##### Decorator Ex 4\n",
    "- In below example we show how using Decorator we can Open a Database Connection, Execute the Query, and Close the Connection\n",
    "- The user is simply calling get_data_from_db and rest everything is handled by Decorator function"
   ]
  },
  {
   "cell_type": "code",
   "execution_count": 9,
   "metadata": {},
   "outputs": [
    {
     "data": {
      "text/html": [
       "<div>\n",
       "<style scoped>\n",
       "    .dataframe tbody tr th:only-of-type {\n",
       "        vertical-align: middle;\n",
       "    }\n",
       "\n",
       "    .dataframe tbody tr th {\n",
       "        vertical-align: top;\n",
       "    }\n",
       "\n",
       "    .dataframe thead th {\n",
       "        text-align: right;\n",
       "    }\n",
       "</style>\n",
       "<table border=\"1\" class=\"dataframe\">\n",
       "  <thead>\n",
       "    <tr style=\"text-align: right;\">\n",
       "      <th></th>\n",
       "      <th>student_id</th>\n",
       "      <th>student_name</th>\n",
       "      <th>gender</th>\n",
       "      <th>dob</th>\n",
       "      <th>registration_date</th>\n",
       "    </tr>\n",
       "  </thead>\n",
       "  <tbody>\n",
       "    <tr>\n",
       "      <th>0</th>\n",
       "      <td>1</td>\n",
       "      <td>Rajesh</td>\n",
       "      <td>M</td>\n",
       "      <td>1990-01-01</td>\n",
       "      <td>2015-07-21</td>\n",
       "    </tr>\n",
       "    <tr>\n",
       "      <th>1</th>\n",
       "      <td>2</td>\n",
       "      <td>Mahesh</td>\n",
       "      <td>M</td>\n",
       "      <td>1991-11-02</td>\n",
       "      <td>2020-05-15</td>\n",
       "    </tr>\n",
       "  </tbody>\n",
       "</table>\n",
       "</div>"
      ],
      "text/plain": [
       "   student_id student_name gender         dob registration_date\n",
       "0           1       Rajesh      M  1990-01-01        2015-07-21\n",
       "1           2       Mahesh      M  1991-11-02        2020-05-15"
      ]
     },
     "execution_count": 9,
     "metadata": {},
     "output_type": "execute_result"
    }
   ],
   "source": [
    "import psycopg2\n",
    "import pandas as pd\n",
    "import json\n",
    "\n",
    "def get_db_conn():\n",
    "    path_configfile = '../pg_test_config.json'\n",
    "    with open(path_configfile, 'r') as f:\n",
    "        config = json.load(f)\n",
    "    \n",
    "    con = psycopg2.connect(database = config['DB_NAME'], user = config['DB_USER'], password = config['DB_PWD'],\n",
    "                    host = config['HOST_IP'], port = config['DB_PORT'],\n",
    "                    options = '-csearch_path={}'.format(config['DB_SCHEMA']))\n",
    "    return con\n",
    "\n",
    "def con_close(con_obj):\n",
    "    if con_obj is not None:\n",
    "        con_obj.close()\n",
    "        \n",
    "def get_data_decorator(get_data_from_db):\n",
    "    def wrapper(*args, **kwargs): \n",
    "        conn = get_db_conn()\n",
    "        select_qry = get_data_from_db(*args,**kwargs)\n",
    "        ret_df = pd.read_sql_query(select_qry,conn)\n",
    "        con_close(conn)\n",
    "        return ret_df\n",
    "    return wrapper\n",
    "\n",
    "@get_data_decorator\n",
    "def get_data_from_db(select_qry):\n",
    "    return select_qry\n",
    "\n",
    "\n",
    "import warnings\n",
    "warnings.filterwarnings(\"ignore\", category=UserWarning)\n",
    "\n",
    "df = get_data_from_db(\"\"\"select * from students limit 2\"\"\")\n",
    "df"
   ]
  },
  {
   "cell_type": "code",
   "execution_count": 10,
   "metadata": {},
   "outputs": [
    {
     "data": {
      "text/html": [
       "<div>\n",
       "<style scoped>\n",
       "    .dataframe tbody tr th:only-of-type {\n",
       "        vertical-align: middle;\n",
       "    }\n",
       "\n",
       "    .dataframe tbody tr th {\n",
       "        vertical-align: top;\n",
       "    }\n",
       "\n",
       "    .dataframe thead th {\n",
       "        text-align: right;\n",
       "    }\n",
       "</style>\n",
       "<table border=\"1\" class=\"dataframe\">\n",
       "  <thead>\n",
       "    <tr style=\"text-align: right;\">\n",
       "      <th></th>\n",
       "      <th>student_id</th>\n",
       "      <th>student_name</th>\n",
       "      <th>gender</th>\n",
       "      <th>dob</th>\n",
       "      <th>registration_date</th>\n",
       "    </tr>\n",
       "  </thead>\n",
       "  <tbody>\n",
       "    <tr>\n",
       "      <th>0</th>\n",
       "      <td>1</td>\n",
       "      <td>Rajesh</td>\n",
       "      <td>M</td>\n",
       "      <td>1990-01-01</td>\n",
       "      <td>2015-07-21</td>\n",
       "    </tr>\n",
       "    <tr>\n",
       "      <th>1</th>\n",
       "      <td>2</td>\n",
       "      <td>Mahesh</td>\n",
       "      <td>M</td>\n",
       "      <td>1991-11-02</td>\n",
       "      <td>2020-05-15</td>\n",
       "    </tr>\n",
       "  </tbody>\n",
       "</table>\n",
       "</div>"
      ],
      "text/plain": [
       "   student_id student_name gender         dob registration_date\n",
       "0           1       Rajesh      M  1990-01-01        2015-07-21\n",
       "1           2       Mahesh      M  1991-11-02        2020-05-15"
      ]
     },
     "execution_count": 10,
     "metadata": {},
     "output_type": "execute_result"
    }
   ],
   "source": [
    "## the decorator equivalent code\n",
    "def get_data_from_db(select_qry):\n",
    "    return select_qry\n",
    "\n",
    "get_data_decorator(get_data_from_db)(\"\"\"select * from students limit 2\"\"\")"
   ]
  },
  {
   "cell_type": "markdown",
   "metadata": {},
   "source": [
    "## Thank you\n",
    "### Link to our YouTube Channel - <a href=\"https://www.youtube.com/channel/UC8d0wiECy8rh74477X2p8VQ?sub_confirmation=1\"> YouTube Videos </a>"
   ]
  }
 ],
 "metadata": {
  "kernelspec": {
   "display_name": "Python 3 (ipykernel)",
   "language": "python",
   "name": "python3"
  },
  "language_info": {
   "codemirror_mode": {
    "name": "ipython",
    "version": 3
   },
   "file_extension": ".py",
   "mimetype": "text/x-python",
   "name": "python",
   "nbconvert_exporter": "python",
   "pygments_lexer": "ipython3",
   "version": "3.11.7"
  }
 },
 "nbformat": 4,
 "nbformat_minor": 4
}
