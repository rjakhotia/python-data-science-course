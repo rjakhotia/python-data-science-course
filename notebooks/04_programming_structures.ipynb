{
 "cells": [
  {
   "cell_type": "markdown",
   "metadata": {},
   "source": [
    "<a href='https://www.k2analytics.in'> <img src='https://k2analytics.co.in/wp-content/uploads/2020/03/Divi-K2-Logo.png' /></a>"
   ]
  },
  {
   "cell_type": "markdown",
   "metadata": {},
   "source": [
    "<p style=\"text-align: center; font-size: 12px\"> Trainer: Rajesh Jakhotia  </p>\n",
    "<p style=\"text-align: center; font-size: 12px\"> ar.jakhotia@k2analytics.co.in | 8939694874  </p>"
   ]
  },
  {
   "cell_type": "markdown",
   "metadata": {},
   "source": [
    "***\n",
    "# PROGRAMMING STRUCTURES\n",
    "***\n",
    "<font color = #318CE7 size = 3 >\n",
    "    \n",
    "- Python if Statement\n",
    "- Python if...else Statement\n",
    "- Python if...elif...else Statement\n",
    "- Python Nested if statements\n",
    "\n",
    "<font>\n",
    "\n",
    "***"
   ]
  },
  {
   "cell_type": "markdown",
   "metadata": {},
   "source": [
    "## CONDITIONAL STATEMENTS"
   ]
  },
  {
   "cell_type": "markdown",
   "metadata": {},
   "source": [
    "### - **` Python if Statement `**\n",
    "***\n",
    "<font color = #318CE7 size = 3 >\n",
    "    \n",
    "- Python `if` Statement Syntax:\n",
    "\n",
    "`if test expression:\n",
    "    statement(s)`\n",
    "    \n",
    "</font>\n",
    "\n",
    "***"
   ]
  },
  {
   "cell_type": "markdown",
   "metadata": {},
   "source": [
    "##### Note: Exception Handling for Wrong Input is covered subsequent Jupyter Notebook Code Files"
   ]
  },
  {
   "cell_type": "code",
   "execution_count": 1,
   "metadata": {},
   "outputs": [
    {
     "name": "stdin",
     "output_type": "stream",
     "text": [
      "Please enter a number 10\n"
     ]
    },
    {
     "name": "stdout",
     "output_type": "stream",
     "text": [
      "10 is a positive Whole Number.\n",
      "This statement will always get printed, as the line is out of the scope of 'if' condition.\n"
     ]
    }
   ],
   "source": [
    "num = int(input(\"Please enter a number\"))\n",
    "\n",
    "if num >= 0:\n",
    "    print(num, \"is a positive Whole Number.\")\n",
    "    \n",
    "print(\"This statement will always get printed, as the line is out of the scope of 'if' condition.\")"
   ]
  },
  {
   "cell_type": "markdown",
   "metadata": {},
   "source": [
    "### - **` Python if...else Statement `**\n",
    "***\n",
    "<font color = #318CE7 size = 3 >\n",
    "    \n",
    "- Syntax of `if...else`\n",
    "\n",
    "`if test expression:\n",
    "    Body of if\n",
    "else:\n",
    "    Body of else`\n",
    "\n",
    "\n",
    "    \n",
    "</font>\n",
    "\n",
    "***"
   ]
  },
  {
   "cell_type": "code",
   "execution_count": 2,
   "metadata": {},
   "outputs": [
    {
     "name": "stdin",
     "output_type": "stream",
     "text": [
      "Please enter a number 0\n"
     ]
    },
    {
     "name": "stdout",
     "output_type": "stream",
     "text": [
      "0  is a Positive Whole Number\n",
      "This statement will always get printed, \n",
      "as the line is out of the scope of 'if-else' condition.\n"
     ]
    }
   ],
   "source": [
    "num = int(input(\"Please enter a number\"))\n",
    "\n",
    "if num >= 0:\n",
    "    print(num ,\" is a Positive Whole Number\")\n",
    "else:\n",
    "    print(num, \" is a Negative number\")\n",
    "    \n",
    "print(\"\"\"This statement will always get printed, \n",
    "as the line is out of the scope of 'if-else' condition.\"\"\")"
   ]
  },
  {
   "cell_type": "markdown",
   "metadata": {},
   "source": [
    "### - **` Python if...elif...else Statement `**\n",
    "***\n",
    "<font color = #318CE7 size = 3 >\n",
    "    \n",
    "- Syntax of if...elif...else\n",
    "\n",
    "`if test expression:\n",
    "    Body of it\n",
    "elif test expression:\n",
    "    Body of it\n",
    "else:\n",
    "    Body of it`\n",
    "\n",
    "\n",
    "</font>\n",
    "\n",
    "***"
   ]
  },
  {
   "cell_type": "code",
   "execution_count": 3,
   "metadata": {},
   "outputs": [
    {
     "name": "stdin",
     "output_type": "stream",
     "text": [
      "Please enter a number:  10\n"
     ]
    },
    {
     "name": "stdout",
     "output_type": "stream",
     "text": [
      "Positive Number\n"
     ]
    }
   ],
   "source": [
    "def is_number(string):\n",
    "    try:\n",
    "        float(string)\n",
    "        return True\n",
    "    except ValueError:\n",
    "        return False\n",
    "\n",
    "num = input(\"Please enter a number: \")\n",
    "if is_number(num):\n",
    "    num = float(num)\n",
    "    if num > 0:\n",
    "        print(\"Positive Number\")\n",
    "    elif num == 0:\n",
    "        print(\"Zero, Whole Number\")\n",
    "    else:\n",
    "        print(\"Negative number\")\n",
    "else:\n",
    "    print(num, \"is not numeric\")\n",
    "    "
   ]
  },
  {
   "cell_type": "code",
   "execution_count": 4,
   "metadata": {},
   "outputs": [],
   "source": [
    "### Practice Problem for if-elif-else\n",
    "# Child (<13), \n",
    "# Teen (13 - 19 inclusive), \n",
    "# Youth(20 - 40 inclusive), \n",
    "# Middle Aged (40 - 60), \n",
    "# Sr. Citizen (>60)"
   ]
  },
  {
   "cell_type": "code",
   "execution_count": 5,
   "metadata": {},
   "outputs": [
    {
     "name": "stdin",
     "output_type": "stream",
     "text": [
      "Please enter your age: 13\n"
     ]
    },
    {
     "name": "stdout",
     "output_type": "stream",
     "text": [
      "You are a teenager\n"
     ]
    }
   ],
   "source": [
    "age = int(input(\"Please enter your age:\"))\n",
    "\n",
    "if age < 13:\n",
    "    print(\"You are a child\")\n",
    "elif age <= 19:\n",
    "    print(\"You are a teenager\")\n",
    "elif age <= 40:\n",
    "    print(\"You are a youth\")\n",
    "elif age <= 60:\n",
    "    print(\"You are a middle-aged person\")\n",
    "else:\n",
    "    print(\"You are a Sr. Citizen\")\n"
   ]
  },
  {
   "cell_type": "markdown",
   "metadata": {},
   "source": [
    "### - **` Python Nested if statements `**\n",
    "***\n",
    "<font color = #318CE7 size = 3 >\n",
    "    \n",
    "`if test expression:\n",
    "    if test expression:\n",
    "        Body of it\n",
    "    else:\n",
    "        Body of it\n",
    "else:\n",
    "    Body of it`\n",
    "\n",
    "</font>\n",
    "\n",
    "***\n",
    "\n"
   ]
  },
  {
   "cell_type": "code",
   "execution_count": 6,
   "metadata": {},
   "outputs": [],
   "source": [
    "## Nested if-else and if-elif problem statement\n",
    "# if gender == 'M'\n",
    "    # Boy Child (<13), \n",
    "    # Boy (13 - 19 inclusive), \n",
    "    # Man(20 - 40 inclusive), \n",
    "# if gender == 'F'\n",
    "    # Girl Child (<13), \n",
    "    # Girl (13 - 19 inclusive), \n",
    "    # Woman (20 - 40 inclusive), \n",
    "# Middle Aged (40 - 60), \n",
    "# Sr. Citizen (>60)"
   ]
  },
  {
   "cell_type": "code",
   "execution_count": 7,
   "metadata": {},
   "outputs": [
    {
     "name": "stdin",
     "output_type": "stream",
     "text": [
      "Please enter your Gender (M/F) M\n",
      "Please enter your Age in Years 12\n"
     ]
    },
    {
     "name": "stdout",
     "output_type": "stream",
     "text": [
      "You are a Boy Child\n"
     ]
    }
   ],
   "source": [
    "gender = input(\"Please enter your Gender (M/F)\")\n",
    "age = int(input(\"Please enter your Age in Years\"))\n",
    "\n",
    "if age > 60:\n",
    "    print(\"You are a Sr. Citizen\")\n",
    "elif age > 40:\n",
    "    print(\"You are a Middle-aged Person\")\n",
    "else:\n",
    "    if(gender == 'M'):\n",
    "        if age < 13:\n",
    "            print(\"You are a Boy Child\")\n",
    "        elif age <= 19:\n",
    "            print(\"You are a Boy\")\n",
    "        else:\n",
    "            print(\"You are a Man\")\n",
    "    else:\n",
    "        if age < 13:\n",
    "            print(\"You are a Girl Child\")\n",
    "        elif age <= 19:\n",
    "            print(\"You are a Girl\")\n",
    "        else:\n",
    "            print(\"You are a Woman\")\n",
    "            "
   ]
  },
  {
   "cell_type": "code",
   "execution_count": 8,
   "metadata": {},
   "outputs": [
    {
     "name": "stdin",
     "output_type": "stream",
     "text": [
      "Enter a number:  1\n"
     ]
    },
    {
     "name": "stdout",
     "output_type": "stream",
     "text": [
      "Positive Natural Number\n"
     ]
    }
   ],
   "source": [
    "num = float(input(\"Enter a number: \"))\n",
    "\n",
    "if num >= 0:\n",
    "    if num == 0:\n",
    "        print(\"Zero, Whole Number\")\n",
    "    else:\n",
    "        print(\"Positive Natural Number\")\n",
    "else:\n",
    "    print(\"Negative number\")\n"
   ]
  },
  {
   "cell_type": "markdown",
   "metadata": {},
   "source": [
    "# CONTROL STATEMENT / LOOPS\n",
    "***\n",
    "\n",
    "<font color = #318CE7 size = 3 >\n",
    "    \n",
    "- for Loop\n",
    "- while Loop\n",
    "- break and continue\n",
    "- pass statement\n",
    "\n",
    "<font>\n",
    "\n",
    "***"
   ]
  },
  {
   "cell_type": "markdown",
   "metadata": {},
   "source": [
    "### - **` Python For Loop `**\n",
    "***\n",
    "<font color = #318CE7 size = 3 >\n",
    "    \n",
    "- Syntax of For loop\n",
    "\n",
    "`for val in sequence:\n",
    "    Body of for loop`\n",
    "\n",
    "\n",
    "</font>\n",
    "\n",
    "***"
   ]
  },
  {
   "cell_type": "code",
   "execution_count": 9,
   "metadata": {},
   "outputs": [
    {
     "name": "stdout",
     "output_type": "stream",
     "text": [
      "The value of i in the loop is  0\n",
      "The value of i in the loop is  1\n",
      "The value of i in the loop is  2\n",
      "The value of i in the loop is  3\n",
      "The value of i in the loop is  4\n",
      "The value of i in the loop is  5\n",
      "The value of i in the loop is  6\n",
      "The value of i in the loop is  7\n",
      "The value of i in the loop is  8\n",
      "The value of i in the loop is  9\n"
     ]
    }
   ],
   "source": [
    "sequence = range( 0,10,  1) \n",
    "for i in sequence:\n",
    "    print(\"The value of i in the loop is \", i)"
   ]
  },
  {
   "cell_type": "code",
   "execution_count": 10,
   "metadata": {},
   "outputs": [
    {
     "name": "stdout",
     "output_type": "stream",
     "text": [
      "The value of i in the loop is  0\n",
      "The value of i in the loop is  2\n",
      "The value of i in the loop is  4\n",
      "The value of i in the loop is  10\n",
      "The value of i in the loop is  20\n",
      "The value of i in the loop is  3\n",
      "The value of i in the loop is  5\n",
      "The value of i in the loop is  9\n"
     ]
    }
   ],
   "source": [
    "lst = [0,2,4,10, 20, 3,5,9] # list is of type iterable\n",
    "\n",
    "for i in lst:\n",
    "    ### Business Logic\n",
    "    ### Function Logic\n",
    "    ### Mathematical Calculations\n",
    "    print(\"The value of i in the loop is \", i)"
   ]
  },
  {
   "cell_type": "code",
   "execution_count": 11,
   "metadata": {},
   "outputs": [
    {
     "name": "stdout",
     "output_type": "stream",
     "text": [
      "The value of i in the loop is  0\n",
      "The value of i in the loop is  2\n",
      "The value of i in the loop is  4\n",
      "The value of i in the loop is  9\n",
      "The value of i in the loop is  8\n",
      "The value of i in the loop is  7\n"
     ]
    }
   ],
   "source": [
    "tpl = (0,2,4,9,8,7)\n",
    "# genre = [\"pop\", \"classical\", \"jazz\"]\n",
    "for i in tpl:\n",
    "    print(\"The value of i in the loop is \", i)"
   ]
  },
  {
   "cell_type": "code",
   "execution_count": 12,
   "metadata": {},
   "outputs": [
    {
     "name": "stdout",
     "output_type": "stream",
     "text": [
      "The value of i in the loop is  pop\n",
      "The value of i in the loop is  classical\n",
      "The value of i in the loop is  jazz\n"
     ]
    }
   ],
   "source": [
    "genre = [\"pop\", \"classical\", \"jazz\"]\n",
    "for i in genre:\n",
    "    print(\"The value of i in the loop is \", i)"
   ]
  },
  {
   "cell_type": "code",
   "execution_count": 13,
   "metadata": {},
   "outputs": [
    {
     "name": "stdout",
     "output_type": "stream",
     "text": [
      "6\n",
      "5\n",
      "3\n",
      "8\n",
      "4\n",
      "The sum is 26\n"
     ]
    }
   ],
   "source": [
    "# Program to find the sum of all numbers stored in a list\n",
    "\n",
    "# What is a Variable? -- Variable is a named placeholder\n",
    "# What does variable hold? -- Variable hold value or it points to an object\n",
    "\n",
    "# List of numbers\n",
    "numbers = [6, 5, 3, 8, 4] # List is an iterable type of data structure\n",
    "\n",
    "# variable to store the sum\n",
    "sum = 0\n",
    "\n",
    "# iterate over the list / range\n",
    "for val in numbers:\n",
    "    print(val)\n",
    "    sum = sum + val # LHS = RHS ; RHS gets evaluated first. The value of RHS gets assigned to variable in LHS\n",
    "\n",
    "# Output\n",
    "print(\"The sum is\", sum)"
   ]
  },
  {
   "cell_type": "markdown",
   "metadata": {},
   "source": [
    "### - **` The range() function `**\n",
    "***"
   ]
  },
  {
   "cell_type": "code",
   "execution_count": 14,
   "metadata": {},
   "outputs": [
    {
     "data": {
      "text/plain": [
       "range(2, 20, 3)"
      ]
     },
     "execution_count": 14,
     "metadata": {},
     "output_type": "execute_result"
    }
   ],
   "source": [
    "range(2, 20, 3) ## start, stop, step = 3"
   ]
  },
  {
   "cell_type": "code",
   "execution_count": 15,
   "metadata": {},
   "outputs": [
    {
     "name": "stdout",
     "output_type": "stream",
     "text": [
      "[2, 5, 8, 11, 14, 17]\n"
     ]
    }
   ],
   "source": [
    "# print(range(10))\n",
    "# print(list(range(10)))\n",
    "# print(list(range(2, 8)))\n",
    "\n",
    "\n",
    "print(  list ( range(2, 20, 3) ) )"
   ]
  },
  {
   "cell_type": "code",
   "execution_count": 16,
   "metadata": {},
   "outputs": [
    {
     "name": "stdout",
     "output_type": "stream",
     "text": [
      "[2, 5, 8, 11, 14, 17, 20]\n"
     ]
    }
   ],
   "source": [
    "#list ( range ( 2, 20, 3) )\n",
    "\n",
    "print( list (range ( 2, 21, 3)))"
   ]
  },
  {
   "cell_type": "code",
   "execution_count": 17,
   "metadata": {},
   "outputs": [
    {
     "name": "stdout",
     "output_type": "stream",
     "text": [
      "I like pop\n",
      "I like rock\n",
      "I like jazz\n",
      "I like shastriya\n"
     ]
    }
   ],
   "source": [
    "# Program to iterate through a list using indexing\n",
    "\n",
    "genre = ['pop', 'rock', 'jazz', 'shastriya']\n",
    "\n",
    "# iterate over the list using index\n",
    "for i in range(len(genre)):\n",
    "    print(\"I like\", genre[i])"
   ]
  },
  {
   "cell_type": "markdown",
   "metadata": {},
   "source": [
    "### - **` for loop with else `**\n",
    "***\n",
    "<font color = #318CE7 size = 3 >\n",
    "\n",
    "- A for loop can have an optional else block as well. \n",
    "- The else part is executed if the items in the sequence used in for loop exhausts.\n",
    "- Break statement can be used to stop a for loop. In such case, the else part is ignored.\n",
    "- Hence, a for loop's else part runs if no break occurs.\n",
    "- Below is an example to illustrate this.\n",
    "\n",
    "</font>\n",
    "\n",
    "***"
   ]
  },
  {
   "cell_type": "code",
   "execution_count": 18,
   "metadata": {},
   "outputs": [
    {
     "name": "stdout",
     "output_type": "stream",
     "text": [
      "the value of val is  6\n",
      "the value of val is  5\n",
      "the value of val is  0\n",
      "Activity Failed\n",
      "The value of ratio sum is  36.66666666666667\n"
     ]
    }
   ],
   "source": [
    "numbers = [6, 5, 0, 8, 4,  5] \n",
    "success = 0\n",
    "ratio_sum = 0\n",
    "for val in numbers:\n",
    "    print(\"the value of val is \", val)\n",
    "    if val == 0:\n",
    "        break\n",
    "        #continue\n",
    "    ratio_sum = ratio_sum + 100 / val \n",
    "else:\n",
    "    success = 1\n",
    "    \n",
    "if success == 1:\n",
    "    print(\"Activity completed Successfully\")\n",
    "else:\n",
    "    print(\"Activity Failed\")\n",
    "   \n",
    "print(\"The value of ratio sum is \", ratio_sum)"
   ]
  },
  {
   "cell_type": "code",
   "execution_count": 19,
   "metadata": {},
   "outputs": [
    {
     "name": "stdout",
     "output_type": "stream",
     "text": [
      "6\n",
      "5\n",
      "3\n",
      "8\n",
      "4\n",
      "5\n",
      "The value of ratio sum is  127.5\n"
     ]
    }
   ],
   "source": [
    "numbers = [6, 5, 3, 8, 4,  5] \n",
    "\n",
    "success = 0\n",
    "ratio_sum = 0\n",
    "for val in numbers:\n",
    "    print(val)\n",
    "    #if val == 0:\n",
    "    #    break  ## Continue - skip that iteration\n",
    "        ## break - break out of the loop\n",
    "    ratio_sum = ratio_sum + 100 / val \n",
    "    ## Assume there is some calculation error that occurs in the loop\n",
    "else:\n",
    "    success = 1\n",
    "    \n",
    "if success == 0:\n",
    "    ratio_sum = 0\n",
    "    \n",
    "print(\"The value of ratio sum is \", ratio_sum)"
   ]
  },
  {
   "cell_type": "code",
   "execution_count": 20,
   "metadata": {},
   "outputs": [
    {
     "name": "stdout",
     "output_type": "stream",
     "text": [
      "0\n",
      "1\n",
      "5\n",
      "No items left to display.\n"
     ]
    }
   ],
   "source": [
    "digits = [0, 1, 5]\n",
    "\n",
    "for i in digits: \n",
    "#     if i == 1:\n",
    "#         continue\n",
    "    print(i)\n",
    "else:\n",
    "    print(\"No items left to display.\")"
   ]
  },
  {
   "cell_type": "markdown",
   "metadata": {},
   "source": [
    "### - **` Python While Loop `**\n",
    "***\n",
    "<font color = #318CE7 size = 3 >\n",
    "    \n",
    "- Syntax of while loop\n",
    "\n",
    "`while test_expression:\n",
    "    Body of while`\n",
    "\n",
    "</font>\n",
    "\n",
    "***"
   ]
  },
  {
   "cell_type": "code",
   "execution_count": 21,
   "metadata": {},
   "outputs": [
    {
     "data": {
      "text/plain": [
       "array([0.49306029, 0.32689254, 0.76977215, 0.31607403, 0.77664831])"
      ]
     },
     "execution_count": 21,
     "metadata": {},
     "output_type": "execute_result"
    }
   ],
   "source": [
    "import numpy as np\n",
    "np.random.rand(5) ## rand function generates random numbers between 0 to 1"
   ]
  },
  {
   "cell_type": "code",
   "execution_count": 22,
   "metadata": {},
   "outputs": [
    {
     "name": "stdout",
     "output_type": "stream",
     "text": [
      "value of i: [0.86889748]\n",
      "value of i: [0.61720242]\n",
      "value of i: [0.65512105]\n",
      "value of i: [0.59538833]\n",
      "value of i: [0.00187865]\n",
      "value of i: [0.76736339]\n",
      "value of i: [0.35258136]\n",
      "value of i: [0.71517766]\n",
      "value of i: [0.00576104]\n",
      "value of i: [0.50064197]\n",
      "value of i: [0.16191582]\n",
      "value of i: [0.96170419]\n",
      "Number of Executions: 12\n"
     ]
    }
   ],
   "source": [
    "\n",
    "import numpy as np\n",
    "import time\n",
    "\n",
    "# initialize sum and counter\n",
    "counter = 0\n",
    "i = 0\n",
    "\n",
    "while i <= 0.90:\n",
    "    counter = counter + 1 # updating counter\n",
    "    i =  np.random.rand(1)  ### Random Number Generator\n",
    "    print(\"value of i:\", i)\n",
    "    time.sleep(0.5)\n",
    "else:\n",
    "    print(\"Number of Executions:\", counter)\n"
   ]
  },
  {
   "cell_type": "code",
   "execution_count": 23,
   "metadata": {},
   "outputs": [],
   "source": [
    "#while 1 == 1:\n",
    "    #### logic to read incoming message\n",
    "    #### logic to send outgoing message\n",
    "#    time.sleep(0.5)"
   ]
  },
  {
   "cell_type": "markdown",
   "metadata": {},
   "source": [
    "### - **` While Loop with Else `**\n",
    "***\n",
    "<font color = #318CE7 size = 3 >\n",
    "    \n",
    "- Syntax of while loop with else\n",
    "\n",
    "`while test_expression:\n",
    "    Body of while\n",
    "else:\n",
    "    Body of else`\n",
    "\n",
    "- The else part is executed if the condition in the while loop evaluates to `False`.\n",
    "- The while loop can be terminated with a `break statement`.\n",
    "- In such case, the else part is ignored. Hence, a while loop's else part runs if no break occurs and the condition is false.\n",
    "\n",
    "</font>"
   ]
  },
  {
   "cell_type": "code",
   "execution_count": 24,
   "metadata": {},
   "outputs": [
    {
     "name": "stdout",
     "output_type": "stream",
     "text": [
      "Inside loop\n",
      "Inside loop\n",
      "Inside loop\n",
      "Outside Loop, Inside else\n"
     ]
    }
   ],
   "source": [
    "# Example\n",
    "# use of else statement with the while loop\n",
    "\n",
    "counter = 0\n",
    "\n",
    "while counter < 3:\n",
    "    print(\"Inside loop\")\n",
    "    counter = counter + 1\n",
    "else:\n",
    "    print(\"Outside Loop, Inside else\")"
   ]
  },
  {
   "cell_type": "markdown",
   "metadata": {},
   "source": [
    "### - **` Python break and continue `**\n",
    "***\n",
    "<font color = #318CE7 size = 3 >\n",
    "   \n",
    "> Loops iterate over a block of code until `test expression is false`, but sometimes we wish to terminate the current iteration or even the whole loop without checking test expression. The `break` and `continue` statements are used in these cases.\n",
    "***\n",
    "- Syntax of break\n",
    "\n",
    "`break`\n",
    "\n",
    "`continue`\n",
    "\n",
    "</font>"
   ]
  },
  {
   "cell_type": "code",
   "execution_count": 25,
   "metadata": {},
   "outputs": [
    {
     "name": "stdout",
     "output_type": "stream",
     "text": [
      "p\n",
      "y\n",
      "t\n",
      "h\n",
      "o\n",
      "n\n",
      "I am in the else loop\n",
      "cursor out of the for loop scope\n"
     ]
    }
   ],
   "source": [
    "# Use of break\n",
    "\n",
    "for val in \"python\":\n",
    "    if val == \"h\":\n",
    "        pass\n",
    "    print(val)\n",
    "else:\n",
    "    print(\"I am in the else loop\")\n",
    "\n",
    "print(\"cursor out of the for loop scope\")"
   ]
  },
  {
   "cell_type": "code",
   "execution_count": 26,
   "metadata": {},
   "outputs": [
    {
     "name": "stdout",
     "output_type": "stream",
     "text": [
      "p\n",
      "y\n",
      "t\n",
      "o\n",
      "n\n",
      "I am in the else loop\n"
     ]
    }
   ],
   "source": [
    "# use of continue & break\n",
    "python = ['p', 'y', 't', 'h', 'o', 'n']\n",
    "for val in python:\n",
    "    if val == \"h\":\n",
    "        continue\n",
    "        #break\n",
    "    print(val)\n",
    "else:\n",
    "    print(\"I am in the else loop\")\n",
    "\n",
    "#print(\"cursor out of the for loop scope\")"
   ]
  },
  {
   "cell_type": "markdown",
   "metadata": {},
   "source": [
    "***"
   ]
  },
  {
   "cell_type": "raw",
   "metadata": {},
   "source": [
    "if condition1:\n",
    "    do something\n",
    "elif condition2:\n",
    "    do something\n",
    "elif condition3:\n",
    "    pass  ### Nothing to be done\n",
    "else:\n",
    "    do something"
   ]
  },
  {
   "cell_type": "code",
   "execution_count": 27,
   "metadata": {},
   "outputs": [],
   "source": [
    "if None:\n",
    "    print(\"hello\")"
   ]
  },
  {
   "cell_type": "markdown",
   "metadata": {},
   "source": [
    "### - **` The range() function `**\n",
    "***\n"
   ]
  },
  {
   "cell_type": "code",
   "execution_count": 28,
   "metadata": {},
   "outputs": [
    {
     "data": {
      "text/plain": [
       "[2, 3, 4, 5, 6, 7, 8, 9, 10, 11, 12, 13, 14, 15, 16, 17, 18]"
      ]
     },
     "execution_count": 28,
     "metadata": {},
     "output_type": "execute_result"
    }
   ],
   "source": [
    "list(range(2,19))"
   ]
  },
  {
   "cell_type": "code",
   "execution_count": 29,
   "metadata": {},
   "outputs": [
    {
     "data": {
      "text/plain": [
       "[2, 4, 6, 8, 10, 12, 14, 16, 18]"
      ]
     },
     "execution_count": 29,
     "metadata": {},
     "output_type": "execute_result"
    }
   ],
   "source": [
    "list(range(2,20,2))"
   ]
  },
  {
   "cell_type": "markdown",
   "metadata": {},
   "source": [
    "for i in range(5):\n",
    "    print(i)"
   ]
  },
  {
   "cell_type": "markdown",
   "metadata": {},
   "source": [
    "## List Comprehension\n",
    "\n",
    "`new_list = [expression for item in iterable if condition == True]`"
   ]
  },
  {
   "cell_type": "code",
   "execution_count": 30,
   "metadata": {},
   "outputs": [
    {
     "name": "stdout",
     "output_type": "stream",
     "text": [
      "['APPLE', 'BANANA', 'MANGO']\n"
     ]
    }
   ],
   "source": [
    "## Code using For Loop\n",
    "\n",
    "fruits = [\"apple\", \"banana\", \"cherry\", \"kiwi\", \"mango\"]\n",
    "newlist = []\n",
    "\n",
    "for x in fruits:\n",
    "    if \"a\" in x:\n",
    "        newlist.append(x.upper())\n",
    "\n",
    "print(newlist)"
   ]
  },
  {
   "cell_type": "code",
   "execution_count": 31,
   "metadata": {},
   "outputs": [
    {
     "name": "stdout",
     "output_type": "stream",
     "text": [
      "['APPLE', 'BANANA', 'MANGO']\n"
     ]
    }
   ],
   "source": [
    "## Code using List Comprehension\n",
    "\n",
    "fruits = [\"apple\", \"banana\", \"cherry\", \"kiwi\", \"mango\"]\n",
    "\n",
    "newlist = [x.upper() for x in fruits if \"a\" in x]\n",
    "\n",
    "print(newlist)"
   ]
  },
  {
   "cell_type": "markdown",
   "metadata": {},
   "source": [
    "___\n",
    "<a href='https://www.k2analytics.co.in'> <img src='K2_Logo.jpg' alt=\"https://k2analytics.co.in\" style=\"width:300px\" /></a>\n"
   ]
  },
  {
   "cell_type": "markdown",
   "metadata": {},
   "source": [
    "# Thank you"
   ]
  },
  {
   "cell_type": "markdown",
   "metadata": {},
   "source": [
    "***"
   ]
  }
 ],
 "metadata": {
  "kernelspec": {
   "display_name": "Python 3 (ipykernel)",
   "language": "python",
   "name": "python3"
  },
  "language_info": {
   "codemirror_mode": {
    "name": "ipython",
    "version": 3
   },
   "file_extension": ".py",
   "mimetype": "text/x-python",
   "name": "python",
   "nbconvert_exporter": "python",
   "pygments_lexer": "ipython3",
   "version": "3.11.7"
  }
 },
 "nbformat": 4,
 "nbformat_minor": 4
}
