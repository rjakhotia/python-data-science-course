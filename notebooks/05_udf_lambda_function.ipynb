{
 "cells": [
  {
   "cell_type": "markdown",
   "metadata": {},
   "source": [
    "___\n",
    "<a href='https://www.k2analytics.co.in'> <img src='K2_Logo.jpg' alt=\"https://k2analytics.co.in\" style=\"width:300px\" /></a>\n",
    "***\n",
    "# PYTHON USER DEFINED FUNCTIONS & LAMBDA ANONYMOUS FUNCTION\n",
    "***\n",
    "- Syntax of Function:\n",
    "\n",
    "```python\r\n",
    "def func_name(parameters):\r\n",
    "    \"\"\"docstring\"\"\"\r\n",
    "    statement(s)\r\n",
    "    return rtn_obj\r\n",
    "```\r\n"
   ]
  },
  {
   "cell_type": "code",
   "execution_count": 1,
   "metadata": {},
   "outputs": [],
   "source": [
    "# defining a function\n",
    "\n",
    "def greet(name = \"Bond\"):\n",
    "    \"\"\"This is a simple function to print the Welcome Greeting message \"\"\" \n",
    "    print(\"Hello: \" + name + \"! welcome to the world of python\")\n",
    "\n",
    "# If return statement is not written, then, by default None would be returned"
   ]
  },
  {
   "cell_type": "code",
   "execution_count": 2,
   "metadata": {},
   "outputs": [
    {
     "name": "stdout",
     "output_type": "stream",
     "text": [
      "Hello: Bond! welcome to the world of python\n"
     ]
    }
   ],
   "source": [
    "# calling a function\n",
    "# shift + tab to read Docstring\n",
    "\n",
    "greet()"
   ]
  },
  {
   "cell_type": "code",
   "execution_count": 3,
   "metadata": {},
   "outputs": [
    {
     "name": "stdout",
     "output_type": "stream",
     "text": [
      "Hello: Rajesh! welcome to the world of python\n"
     ]
    }
   ],
   "source": [
    "# To call a function we simply type the function name with appropriate parameters.\n",
    "greet(\"Rajesh\")"
   ]
  },
  {
   "cell_type": "code",
   "execution_count": 4,
   "metadata": {},
   "outputs": [
    {
     "data": {
      "text/plain": [
       "<function __main__.greet(name='Bond')>"
      ]
     },
     "execution_count": 4,
     "metadata": {},
     "output_type": "execute_result"
    }
   ],
   "source": [
    "greet # returns what is this object"
   ]
  },
  {
   "cell_type": "code",
   "execution_count": 5,
   "metadata": {},
   "outputs": [
    {
     "name": "stdout",
     "output_type": "stream",
     "text": [
      "This is a simple function to print the Welcome Greeting message \n"
     ]
    }
   ],
   "source": [
    "print(greet.__doc__)"
   ]
  },
  {
   "cell_type": "code",
   "execution_count": 6,
   "metadata": {},
   "outputs": [
    {
     "name": "stdout",
     "output_type": "stream",
     "text": [
      "Hello: RJ! welcome to the world of python\n",
      "Return value of the function:  None\n"
     ]
    }
   ],
   "source": [
    "ret_val = greet(\"RJ\")\n",
    "print(\"Return value of the function: \", ret_val)"
   ]
  },
  {
   "cell_type": "markdown",
   "metadata": {},
   "source": [
    "### - **` The return statement `**\n",
    "***\n",
    "<font color = #318CE7 size = 3 >\n",
    "\n",
    "> The return statement is used to exit a function and go back to the place from where it was called.\n",
    "\n",
    "- Syntax of return:\n",
    "\n",
    "`return [expression_list]`\n",
    "\n",
    "- This statement can contain expression which gets evaluated and the value is returned. \n",
    "- If there is no expression in the statement or the return statement itself is not present inside a function, then the function will return the None object.\n",
    "\n",
    "</font>"
   ]
  },
  {
   "cell_type": "code",
   "execution_count": 7,
   "metadata": {},
   "outputs": [],
   "source": [
    "def ltv(loan_amount, property_value): # ltv - loan to value\n",
    "    \"\"\"This example is to show User Defined Business Function\"\"\"\n",
    "    #return 0\n",
    "    \n",
    "    print(\"The print statement\")\n",
    "    if loan_amount < 0:\n",
    "        return \"-1\"\n",
    "    elif loan_amount > property_value:\n",
    "        return \"out of range\"\n",
    "    return loan_amount / property_value\n"
   ]
  },
  {
   "cell_type": "code",
   "execution_count": 8,
   "metadata": {},
   "outputs": [
    {
     "name": "stdout",
     "output_type": "stream",
     "text": [
      "The print statement\n"
     ]
    },
    {
     "data": {
      "text/plain": [
       "0.8"
      ]
     },
     "execution_count": 8,
     "metadata": {},
     "output_type": "execute_result"
    }
   ],
   "source": [
    "ltv(800000, 1000000)\n"
   ]
  },
  {
   "cell_type": "code",
   "execution_count": 9,
   "metadata": {},
   "outputs": [],
   "source": [
    "# return example\n",
    "\n",
    "def abs_val(x):\n",
    "    \"\"\"\n",
    "    This function returns the absolute\n",
    "    value of the entered number\n",
    "    \"\"\"\n",
    "    if x >= 0:\n",
    "        return x\n",
    "    else:\n",
    "        return x"
   ]
  },
  {
   "cell_type": "code",
   "execution_count": 10,
   "metadata": {},
   "outputs": [
    {
     "name": "stdout",
     "output_type": "stream",
     "text": [
      "2\n"
     ]
    }
   ],
   "source": [
    "print(abs_val(2))"
   ]
  },
  {
   "cell_type": "code",
   "execution_count": 11,
   "metadata": {},
   "outputs": [
    {
     "name": "stdout",
     "output_type": "stream",
     "text": [
      "-2\n"
     ]
    }
   ],
   "source": [
    "print(abs_val(-2))"
   ]
  },
  {
   "cell_type": "markdown",
   "metadata": {},
   "source": [
    "### - **` Scope and Lifetime of variables `**\n",
    "***\n"
   ]
  },
  {
   "cell_type": "code",
   "execution_count": 12,
   "metadata": {},
   "outputs": [
    {
     "name": "stdout",
     "output_type": "stream",
     "text": [
      "value of y inside function:  200\n"
     ]
    },
    {
     "ename": "NameError",
     "evalue": "name 'y' is not defined",
     "output_type": "error",
     "traceback": [
      "\u001b[1;31m---------------------------------------------------------------------------\u001b[0m",
      "\u001b[1;31mNameError\u001b[0m                                 Traceback (most recent call last)",
      "Cell \u001b[1;32mIn[12], line 10\u001b[0m\n\u001b[0;32m      6\u001b[0m     \u001b[38;5;28mprint\u001b[39m(\u001b[38;5;124m\"\u001b[39m\u001b[38;5;124mvalue of y inside function: \u001b[39m\u001b[38;5;124m\"\u001b[39m,y)\n\u001b[0;32m      8\u001b[0m my_func()\n\u001b[1;32m---> 10\u001b[0m \u001b[38;5;28mprint\u001b[39m(\u001b[38;5;124m\"\u001b[39m\u001b[38;5;124mvalue of y outside function: \u001b[39m\u001b[38;5;124m\"\u001b[39m, y)\n",
      "\u001b[1;31mNameError\u001b[0m: name 'y' is not defined"
     ]
    }
   ],
   "source": [
    "# variable scope example\n",
    "x = 20 # global scope\n",
    "\n",
    "def my_func():\n",
    "    y = x * 10 # (local to the function)\n",
    "    print(\"value of y inside function: \",y)\n",
    "    \n",
    "my_func()\n",
    "\n",
    "print(\"value of y outside function: \", y)   ## This will give NameError as Local Variable cannot be accessed in Global Scope"
   ]
  },
  {
   "cell_type": "markdown",
   "metadata": {},
   "source": [
    "### - **` Lambda Functions (Anonymous) `**\n",
    "***\n",
    "<font color = #318CE7 size = 3 >\n",
    "  \n",
    "\n",
    "`lambda arguments: expression`\n",
    "\n",
    "- Lambda functions can have `any number of arguments` but only `one expression`. \n",
    "- The expression is evaluated and returned. \n",
    "- Lambda functions can be used wherever function objects are required.\n",
    "\n",
    "</font>\n",
    "\n",
    "***"
   ]
  },
  {
   "cell_type": "markdown",
   "metadata": {},
   "source": [
    "### - **` Use of Lambda Function in python `**\n",
    "***\n",
    "<font color = #318CE7 size = 3 >\n",
    "   \n",
    "- We use lambda functions when we require a nameless function for a short period of time.\n",
    "- Lambda functions are commonly used along with built-in functions `filter()` and `map()`\n",
    "\n",
    "***\n",
    "\n",
    "`filter()`\n",
    "\n",
    "- The filter() function in Python takes in a function and an iterable as arguments.\n",
    "- Return an iterator yielding those items of iterable for which function(item) is true. \n",
    "\n",
    "`map()`\n",
    "\n",
    "- The map() function in Python takes in a function and a iterable as arguments.\n",
    "- Return an iterable that result from the application of the function on each item in the iterable passed as input \n",
    "\n",
    "</font>\n",
    "\n",
    "***"
   ]
  },
  {
   "cell_type": "markdown",
   "metadata": {},
   "source": [
    "### The For-Loop approach of coding is INEFFICIENT, esp. when you have to process huge dataset"
   ]
  },
  {
   "cell_type": "code",
   "execution_count": 13,
   "metadata": {},
   "outputs": [
    {
     "name": "stdout",
     "output_type": "stream",
     "text": [
      "[2, 10, 8, -12, 16, -22, 6, 0]\n"
     ]
    }
   ],
   "source": [
    "my_list = [1, 5, 4, -6, 8, -11, 3, 0]\n",
    "new_list = []\n",
    "for i in my_list:\n",
    "    new_list.append(i * 2)\n",
    "print(new_list)"
   ]
  },
  {
   "cell_type": "markdown",
   "metadata": {},
   "source": [
    "### Using lambda with map is more efficient than a for loop, as the computation is handled internally in a vectorized manner."
   ]
  },
  {
   "cell_type": "code",
   "execution_count": 14,
   "metadata": {},
   "outputs": [
    {
     "name": "stdout",
     "output_type": "stream",
     "text": [
      "[2, 10, 8, -12, 16, -22, 6, 0]\n"
     ]
    }
   ],
   "source": [
    "# Here is an example use of map() function to double all the items in a list.\n",
    "\n",
    "my_list = [1, 5, 4, -6, 8, -11, 3, 0]\n",
    "\n",
    "new_list = list(   map(lambda x: x * 2 , my_list))\n",
    "\n",
    "print(new_list)"
   ]
  },
  {
   "cell_type": "code",
   "execution_count": 15,
   "metadata": {},
   "outputs": [
    {
     "name": "stdout",
     "output_type": "stream",
     "text": [
      "[2, 10, 8, 12, 16, 22, 6, 24]\n"
     ]
    }
   ],
   "source": [
    "# Here is an example use of map() function to double all the items in a list.\n",
    "\n",
    "my_list = [1, 5, 4, 6, 8, 11, 3, 12]\n",
    "def multiply2(x):\n",
    "    return 2 * x\n",
    "new_list = list(   map(multiply2 , my_list))\n",
    "\n",
    "print(new_list)"
   ]
  },
  {
   "cell_type": "markdown",
   "metadata": {},
   "source": [
    "### Lambda - Filter Example to filter out only even numbers from a list."
   ]
  },
  {
   "cell_type": "code",
   "execution_count": 16,
   "metadata": {},
   "outputs": [
    {
     "name": "stdout",
     "output_type": "stream",
     "text": [
      "[4, 6, 8, 12]\n"
     ]
    }
   ],
   "source": [
    "# lambda input : expression\n",
    "\n",
    "my_list = [1, 5, 4, 6, 8, 11, 3, 12]\n",
    "\n",
    "new_list = list(    filter(lambda x : (x % 2 == 0) , my_list)      )\n",
    "\n",
    "print(new_list)"
   ]
  },
  {
   "cell_type": "markdown",
   "metadata": {},
   "source": [
    "### Thank You"
   ]
  },
  {
   "cell_type": "markdown",
   "metadata": {},
   "source": [
    "***"
   ]
  }
 ],
 "metadata": {
  "anaconda-cloud": {},
  "kernelspec": {
   "display_name": "Python 3 (ipykernel)",
   "language": "python",
   "name": "python3"
  },
  "language_info": {
   "codemirror_mode": {
    "name": "ipython",
    "version": 3
   },
   "file_extension": ".py",
   "mimetype": "text/x-python",
   "name": "python",
   "nbconvert_exporter": "python",
   "pygments_lexer": "ipython3",
   "version": "3.11.7"
  }
 },
 "nbformat": 4,
 "nbformat_minor": 4
}
