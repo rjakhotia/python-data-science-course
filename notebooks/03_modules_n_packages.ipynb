{
 "cells": [
  {
   "cell_type": "markdown",
   "metadata": {},
   "source": [
    "___\n",
    "<a href='https://www.k2analytics.co.in'> <img src='K2_Logo.jpg' alt=\"https://k2analytics.co.in\" style=\"width:300px\" /></a>\n",
    "***"
   ]
  },
  {
   "cell_type": "markdown",
   "metadata": {},
   "source": [
    "<p style=\"text-align: center; font-size: 12px\"> Trainer: Rajesh Jakhotia  </p>\n",
    "<p style=\"text-align: center; font-size: 12px\"> ar.jakhotia@k2analytics.co.in | 8939694874  </p>"
   ]
  },
  {
   "cell_type": "markdown",
   "metadata": {},
   "source": [
    "# MODULES & PACKAGES\n",
    "***\n",
    "<font color = #318CE7 size = 3 >\n",
    "\n",
    "###  **` Modules`**\n",
    "- Modules in Python are simply Python files that contains legitimate Python code with .py extension.\n",
    "- The name of the .py file becomes the module name.\n",
    "- A Python module can have a set of functions, classes or variables defined and implemented.\n",
    "</font>"
   ]
  },
  {
   "cell_type": "code",
   "execution_count": null,
   "metadata": {},
   "outputs": [],
   "source": [
    "# copy the below code and save in a file named addition.py\n",
    "#var_1 = 100\n",
    "#var_2 = \"K2\"\n",
    "#var_3 = \"Analytics\"\n",
    "\n",
    "\n",
    "#def add(a,b):\n",
    "#    result = a + b\n",
    "#    return result"
   ]
  },
  {
   "cell_type": "code",
   "execution_count": null,
   "metadata": {},
   "outputs": [],
   "source": [
    "import addition ### Load the content present in that .py file"
   ]
  },
  {
   "cell_type": "code",
   "execution_count": null,
   "metadata": {},
   "outputs": [],
   "source": [
    "#addition.var_1\n",
    "#addition.var_2\n",
    "addition.var_3"
   ]
  },
  {
   "cell_type": "code",
   "execution_count": null,
   "metadata": {},
   "outputs": [],
   "source": [
    "addition.add(3, 9)"
   ]
  },
  {
   "cell_type": "markdown",
   "metadata": {},
   "source": [
    "###  **` The Module Search Path `**\n",
    "***\n",
    "<font color = #318CE7 size = 3 >\n",
    "    \n",
    "- When Python executes the statement: `import addition` it searches for addition.py in a list of directories in the PYTHONPATH environment variable\n",
    "- In Windows OS the PYTHONPATH gets set based on the \"path\" environment variable\n",
    "\n",
    "`sys.path`\n",
    "\n",
    "<font>\n",
    "    "
   ]
  },
  {
   "cell_type": "code",
   "execution_count": null,
   "metadata": {},
   "outputs": [],
   "source": [
    "# import syntax is used to import modules in python\n",
    "import sys"
   ]
  },
  {
   "cell_type": "code",
   "execution_count": null,
   "metadata": {},
   "outputs": [],
   "source": [
    "sys.path"
   ]
  },
  {
   "cell_type": "markdown",
   "metadata": {},
   "source": [
    "###  **` Setting the PYTHONPATH`**\n",
    "***"
   ]
  },
  {
   "cell_type": "code",
   "execution_count": null,
   "metadata": {},
   "outputs": [],
   "source": [
    "sys.path.append('d:/')"
   ]
  },
  {
   "cell_type": "code",
   "execution_count": null,
   "metadata": {},
   "outputs": [],
   "source": [
    "sys.path"
   ]
  },
  {
   "cell_type": "code",
   "execution_count": null,
   "metadata": {},
   "outputs": [],
   "source": [
    "addition.__file__"
   ]
  },
  {
   "cell_type": "code",
   "execution_count": null,
   "metadata": {},
   "outputs": [],
   "source": [
    "addition.add(2,5)"
   ]
  },
  {
   "cell_type": "markdown",
   "metadata": {},
   "source": [
    "###  **` The import Statement `**\n",
    "<BR>\n",
    "<font color = #318CE7 size = 3 >\n",
    "    \n",
    "- Module contents are made available to the caller with the `import` statement.\n",
    "- The import statement takes many different forms, like\n",
    "    - ` import <module_name>`\n",
    "    - `from <module_name> import <name(s)>`\n",
    "    - `from <module_name> import <name> as <alt_name>`\n",
    "    - `import <module_name> as <alt_name>`\n",
    "\n",
    "<font>\n",
    "    \n",
    "***"
   ]
  },
  {
   "cell_type": "code",
   "execution_count": null,
   "metadata": {},
   "outputs": [],
   "source": [
    "sqrt(25)"
   ]
  },
  {
   "cell_type": "code",
   "execution_count": null,
   "metadata": {},
   "outputs": [],
   "source": [
    "import math  ## package"
   ]
  },
  {
   "cell_type": "code",
   "execution_count": null,
   "metadata": {},
   "outputs": [],
   "source": [
    "math.sqrt(25)"
   ]
  },
  {
   "cell_type": "code",
   "execution_count": null,
   "metadata": {},
   "outputs": [],
   "source": [
    "del math"
   ]
  },
  {
   "cell_type": "code",
   "execution_count": null,
   "metadata": {},
   "outputs": [],
   "source": [
    "math.sqrt(25)"
   ]
  },
  {
   "cell_type": "code",
   "execution_count": null,
   "metadata": {},
   "outputs": [],
   "source": [
    "#import math\n",
    "from math import sqrt"
   ]
  },
  {
   "cell_type": "code",
   "execution_count": null,
   "metadata": {},
   "outputs": [],
   "source": [
    "sqrt(25)"
   ]
  },
  {
   "cell_type": "code",
   "execution_count": null,
   "metadata": {},
   "outputs": [],
   "source": [
    "round(sqrt(48),2)"
   ]
  },
  {
   "cell_type": "code",
   "execution_count": null,
   "metadata": {},
   "outputs": [],
   "source": [
    "del sqrt"
   ]
  },
  {
   "cell_type": "code",
   "execution_count": null,
   "metadata": {},
   "outputs": [],
   "source": [
    "sqrt(25)"
   ]
  },
  {
   "cell_type": "code",
   "execution_count": null,
   "metadata": {},
   "outputs": [],
   "source": [
    "from math import sqrt as s"
   ]
  },
  {
   "cell_type": "code",
   "execution_count": null,
   "metadata": {},
   "outputs": [],
   "source": [
    "s(36)"
   ]
  },
  {
   "cell_type": "code",
   "execution_count": null,
   "metadata": {},
   "outputs": [],
   "source": [
    "sqrt(36)"
   ]
  },
  {
   "cell_type": "markdown",
   "metadata": {},
   "source": [
    "##### Power"
   ]
  },
  {
   "cell_type": "code",
   "execution_count": null,
   "metadata": {},
   "outputs": [],
   "source": [
    "5**3"
   ]
  },
  {
   "cell_type": "code",
   "execution_count": null,
   "metadata": {},
   "outputs": [],
   "source": [
    "pow(5,3)"
   ]
  },
  {
   "cell_type": "code",
   "execution_count": null,
   "metadata": {},
   "outputs": [],
   "source": [
    "math.pow(5,3)"
   ]
  },
  {
   "cell_type": "code",
   "execution_count": null,
   "metadata": {},
   "outputs": [],
   "source": [
    "import math as m "
   ]
  },
  {
   "cell_type": "code",
   "execution_count": null,
   "metadata": {},
   "outputs": [],
   "source": [
    "m.sqrt(25)"
   ]
  },
  {
   "cell_type": "code",
   "execution_count": null,
   "metadata": {},
   "outputs": [],
   "source": [
    "m.pi"
   ]
  },
  {
   "cell_type": "code",
   "execution_count": null,
   "metadata": {},
   "outputs": [],
   "source": [
    "math.pi"
   ]
  },
  {
   "cell_type": "markdown",
   "metadata": {},
   "source": [
    "<font color = #318CE7 size = 3 >\n",
    "\n",
    "###  **` PACKAGES`**\n",
    "\n",
    "- An organized group of modules in a folder structure is called package\n",
    "\n",
    "<img src=\"https://files.realpython.com/media/pkg2.dab97c2f9c58.png\" alt=\"Subpackages\" title=\"Subpackages\" />\n",
    "\n",
    "***\n",
    "\n",
    "`Subpackages`\n",
    "- Packages can contain nested subpackages.\n",
    "    - Syntax is similar, but additional dot notation is used to separate package name from subpackage name.\n",
    "    -  `import pkg.sub_pkg1.mod1`    \n",
    "</font>\n",
    "\n",
    "\n",
    "<img src=\"https://files.realpython.com/media/pkg4.a830d6e144bf.png\" alt=\"Subpackages\" title=\"Subpackages\" />\n",
    "\n",
    "[REFERENCE](https://realpython.com/python-modules-packages/)\n",
    "\n",
    "***"
   ]
  },
  {
   "cell_type": "markdown",
   "metadata": {},
   "source": [
    "___\n",
    "<a href='https://www.k2analytics.co.in'> <img src='K2_Logo.jpg' alt=\"https://k2analytics.co.in\" style=\"width:300px\" /></a>\n",
    "***"
   ]
  }
 ],
 "metadata": {
  "kernelspec": {
   "display_name": "Python 3 (ipykernel)",
   "language": "python",
   "name": "python3"
  },
  "language_info": {
   "codemirror_mode": {
    "name": "ipython",
    "version": 3
   },
   "file_extension": ".py",
   "mimetype": "text/x-python",
   "name": "python",
   "nbconvert_exporter": "python",
   "pygments_lexer": "ipython3",
   "version": "3.11.7"
  }
 },
 "nbformat": 4,
 "nbformat_minor": 4
}
