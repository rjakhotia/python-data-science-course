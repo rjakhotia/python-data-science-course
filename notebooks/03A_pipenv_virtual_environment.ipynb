{
 "cells": [
  {
   "cell_type": "markdown",
   "metadata": {},
   "source": [
    "<p style=\"text-align: center; font-size: 24px\"> Python Package Installation and Virutal Environment</p>\n",
    "<p style=\"text-align: center; font-size: 12px\"> Trainer: Rajesh Jakhotia  </p>\n"
   ]
  },
  {
   "cell_type": "markdown",
   "metadata": {},
   "source": [
    "### Note: Python Virtual Environment is typically used in Real Life Projects\n",
    "### YOU MAY SKIP THIS CONTENT, IF YOU ARE NEW TO PYTHON"
   ]
  },
  {
   "cell_type": "markdown",
   "metadata": {},
   "source": [
    "***\n",
    "PYTHON PACKAGES\n",
    "\n",
    "* __builtins__\n",
    "    \n",
    "* pip install or pip3 install\n",
    "\n",
    "* pipenv\n",
    "\n",
    "* conda install\n",
    "  \n",
    "* mamba\n",
    "  "
   ]
  },
  {
   "cell_type": "markdown",
   "metadata": {},
   "source": [
    "# \\_ \\_builtins_ _\n",
    "***\n",
    "<font color = #318CE7 size = 3 >\n",
    "    \n",
    "- The builtins module is loaded by default at the time when Python Interpreter is started\n",
    "- As such all the functionality of `builtins` is availabe directly without we having to explicitly load the `builtins` module\n",
    "- `from builtins import *`\n",
    "- `builtins` module provides direct access to all ‘built-in’ identifiers of Python\n",
    "    \n",
    "</font>"
   ]
  },
  {
   "cell_type": "code",
   "execution_count": null,
   "metadata": {},
   "outputs": [],
   "source": [
    "__builtins__"
   ]
  },
  {
   "cell_type": "code",
   "execution_count": null,
   "metadata": {},
   "outputs": [],
   "source": [
    "round(0.1234,2)"
   ]
  },
  {
   "cell_type": "code",
   "execution_count": null,
   "metadata": {},
   "outputs": [],
   "source": [
    "dir(__builtins__)"
   ]
  },
  {
   "cell_type": "code",
   "execution_count": null,
   "metadata": {},
   "outputs": [],
   "source": [
    "from builtins import *"
   ]
  },
  {
   "cell_type": "markdown",
   "metadata": {},
   "source": [
    "### Note: Many of the syntax given below has to be executed in Anaconda Prompt Command Line Interface"
   ]
  },
  {
   "cell_type": "markdown",
   "metadata": {},
   "source": [
    "# pip and pip3\n",
    "***\n",
    "<font color = #318CE7 size = 3 >\n",
    "    \n",
    "- pip is the package manager for python and it simply install the packages with the required versions for python\n",
    "- pip3 is the version of pip from Python 3.0 onwards\n",
    "- pip comes pre-installed with with Python 2.7    \n",
    "- pip and pip3 are used for installation of packages in python\n",
    "    - `pip3 install <package_name>`\n",
    "- Prefereable to use pip3 going forward\n",
    "    \n",
    "</font>"
   ]
  },
  {
   "cell_type": "code",
   "execution_count": null,
   "metadata": {},
   "outputs": [],
   "source": [
    "!pip3 install opencv-python"
   ]
  },
  {
   "cell_type": "markdown",
   "metadata": {},
   "source": [
    "### Useful Links\n",
    "https://www.youtube.com/watch?v=zDYL22QNiWk\n"
   ]
  },
  {
   "cell_type": "markdown",
   "metadata": {},
   "source": [
    "# Python Virtual Environment\n",
    "***\n",
    "<font color = #318CE7 size = 3 >\n",
    "    \n",
    "- Python Virtual Environment is a tool to have multiple Python Environments in the same machine / server\n",
    "- It is typically created on top of a Base Python Environment\n",
    "- It is created to separated out dependencies of multiple project\n",
    "    - e.g. you may have a working application running on Django 2.8 and upgraded version being developed on Django 3.0. You wish to have both on the same server. This scenario can be easily handled using Virtual Environment\n",
    "- Virtual Environment can be created using multiple ways - pipenv, virutalenv, venv, pyenv, conda create -n\n",
    "</font>"
   ]
  },
  {
   "cell_type": "markdown",
   "metadata": {},
   "source": [
    "### Two Key Components of Virtual Environment\n",
    "- Python Environment\n",
    "- Folder in which all thire party libraries are installed"
   ]
  },
  {
   "cell_type": "markdown",
   "metadata": {},
   "source": [
    "# pipenv\n",
    "***\n",
    "https://pypi.org/project/pipenv/\n",
    "<font color = #318CE7 size = 3 >\n",
    "    \n",
    "- Pipenv is a combination of Pip and Virtual Environment    \n",
    "- Pipenv is a tool that provides all necessary means to create a virtual environment for your Python project\n",
    "- It automatically manages project packages through the `Pipfile` file as you install or uninstall packages.    \n",
    "    \n",
    "</font>"
   ]
  },
  {
   "cell_type": "markdown",
   "metadata": {},
   "source": [
    "#### Install pipenv"
   ]
  },
  {
   "cell_type": "code",
   "execution_count": null,
   "metadata": {},
   "outputs": [],
   "source": [
    "# !pip3 install pipenv"
   ]
  },
  {
   "cell_type": "markdown",
   "metadata": {},
   "source": [
    "### Step 1: Create a Python Project Folder\n",
    "### Step 2: Navigate to the Folder"
   ]
  },
  {
   "cell_type": "markdown",
   "metadata": {},
   "source": [
    "#### Activate Virtual Environment \n",
    "- This will create a Virtual Environment and a file Pipfile will be created in the folder\n",
    "- The format of Pipfile is TOML \"Tom's Obvious, Minimal Language\"\n",
    "- TOML's syntax primarily consists of key = value pairs, [section names], and # (for comments)."
   ]
  },
  {
   "cell_type": "code",
   "execution_count": null,
   "metadata": {},
   "outputs": [],
   "source": [
    "# pipenv shell  # Will create the virtual environment using python version in your path\n",
    "# or\n",
    "# pipenv install --python 3.8 <version number>  ## Provided it is installed in your machine\n",
    "# pipenv --python path\\to\\python"
   ]
  },
  {
   "cell_type": "markdown",
   "metadata": {},
   "source": [
    "#### Check versions of Python"
   ]
  },
  {
   "cell_type": "code",
   "execution_count": null,
   "metadata": {},
   "outputs": [],
   "source": [
    "# python --version"
   ]
  },
  {
   "cell_type": "markdown",
   "metadata": {},
   "source": [
    "#### Activate the Projects Virtual Environment"
   ]
  },
  {
   "cell_type": "code",
   "execution_count": null,
   "metadata": {},
   "outputs": [],
   "source": [
    "# pipenv shell"
   ]
  },
  {
   "cell_type": "markdown",
   "metadata": {},
   "source": [
    "#### pipenv virtual environment storage path"
   ]
  },
  {
   "cell_type": "code",
   "execution_count": null,
   "metadata": {},
   "outputs": [],
   "source": [
    "# pipenv --venv"
   ]
  },
  {
   "cell_type": "markdown",
   "metadata": {},
   "source": [
    "#### Installation path"
   ]
  },
  {
   "cell_type": "code",
   "execution_count": null,
   "metadata": {},
   "outputs": [],
   "source": [
    "# import sys\n",
    "# sys.executable"
   ]
  },
  {
   "cell_type": "markdown",
   "metadata": {},
   "source": [
    "#### Install/uninstall a package"
   ]
  },
  {
   "cell_type": "code",
   "execution_count": null,
   "metadata": {},
   "outputs": [],
   "source": [
    "# pipenv install <package name>\n",
    "# pipenv install requests\n",
    "# pipenv uninstall <package name>\n",
    "# pipenv uninstall requests"
   ]
  },
  {
   "cell_type": "code",
   "execution_count": null,
   "metadata": {},
   "outputs": [],
   "source": [
    "# exit to deactivate a virtual environment"
   ]
  },
  {
   "cell_type": "markdown",
   "metadata": {},
   "source": [
    "#### run python file from a given environment"
   ]
  },
  {
   "cell_type": "code",
   "execution_count": null,
   "metadata": {},
   "outputs": [],
   "source": [
    "# exit   ## exit from python virtual environment\n",
    "# pipenv run python <python_file.py>\n",
    "# pipenv run python test.py\n",
    "### test.py code\n",
    "import sys\n",
    "print(sys.executable)\n",
    "\n",
    "# python test.py\n",
    "# "
   ]
  },
  {
   "cell_type": "markdown",
   "metadata": {},
   "source": [
    "#### Install from requirements.txt"
   ]
  },
  {
   "cell_type": "code",
   "execution_count": null,
   "metadata": {},
   "outputs": [],
   "source": [
    "# pipenv install -r ./requirements.txt\n",
    "psycopg2==2.9.5\n",
    "SQLAlchemy==1.4.9"
   ]
  },
  {
   "cell_type": "markdown",
   "metadata": {},
   "source": [
    "#### To install a package only for dev environment"
   ]
  },
  {
   "cell_type": "code",
   "execution_count": null,
   "metadata": {},
   "outputs": [],
   "source": [
    "# pipenv install pytest --dev"
   ]
  },
  {
   "cell_type": "markdown",
   "metadata": {},
   "source": [
    "#### Update pipenv.lock file"
   ]
  },
  {
   "cell_type": "code",
   "execution_count": null,
   "metadata": {},
   "outputs": [],
   "source": [
    "# pipenv update"
   ]
  },
  {
   "cell_type": "markdown",
   "metadata": {},
   "source": [
    "# conda create virtual environment\n",
    "***\n",
    "<font color = #318CE7 size = 3 >\n",
    "    \n",
    "- With conda, you can create, export, list, remove, and update environments that have different versions of Python and/or packages installed in them  \n",
    "    \n",
    "https://conda.io/projects/conda/en/latest/user-guide/tasks/manage-environments.html\n",
    "\n",
    "    \n",
    "</font>"
   ]
  },
  {
   "cell_type": "code",
   "execution_count": null,
   "metadata": {},
   "outputs": [],
   "source": [
    "# conda create -n PyEnv39 python=3.9 anaconda\n",
    "# conda activate PyEnv39\n",
    "# conda deactivate\n",
    "# pip3 install camelcase\n",
    "# pip3 freeze > requirements.txt\n",
    "### alternatively\n",
    "# conda list -e > requirements.txt\n",
    "# pip install -r requirements.txt\n",
    "# conda env remove --name PyEnv39"
   ]
  },
  {
   "cell_type": "markdown",
   "metadata": {},
   "source": [
    "# Mamba\n",
    "***\n",
    "<font color = #318CE7 size = 3 >\n",
    "    \n",
    "- Mamba is CLI tool to manage conda environments. \n",
    "- Mamba is a re-implementation of the Conda package manager, designed to be:\n",
    "\n",
    "    - Fast.\n",
    "    - Backwards compatible, with the same command-line options.\n",
    "    - Eventually, add more features.\n",
    "    \n",
    "https://mamba.readthedocs.io/en/latest/user_guide/mamba.html\n",
    "\n",
    "    \n",
    "</font>"
   ]
  },
  {
   "cell_type": "code",
   "execution_count": null,
   "metadata": {},
   "outputs": [],
   "source": [
    "# conda install mamba\n",
    "# mamba config --show channels\n",
    "# mamba create -n PyEnv311 python=3.11\n",
    "# mamba activate PyEnv311\n",
    "# mamba deactivate\n",
    "# pip3 install camelcase\n",
    "# pip3 freeze > requirements.txt\n",
    "### alternatively\n",
    "# mamba list -e > requirements.txt\n",
    "# pip install -r requirements.txt"
   ]
  }
 ],
 "metadata": {
  "anaconda-cloud": {},
  "kernelspec": {
   "display_name": "Python 3 (ipykernel)",
   "language": "python",
   "name": "python3"
  },
  "language_info": {
   "codemirror_mode": {
    "name": "ipython",
    "version": 3
   },
   "file_extension": ".py",
   "mimetype": "text/x-python",
   "name": "python",
   "nbconvert_exporter": "python",
   "pygments_lexer": "ipython3",
   "version": "3.11.7"
  }
 },
 "nbformat": 4,
 "nbformat_minor": 4
}
