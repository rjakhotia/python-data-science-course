{
 "cells": [
  {
   "cell_type": "markdown",
   "metadata": {},
   "source": [
    "<a href='https://www.k2analytics.in'> <img src='https://k2analytics.co.in/wp-content/uploads/2020/03/Divi-K2-Logo.png' /></a>"
   ]
  },
  {
   "cell_type": "markdown",
   "metadata": {},
   "source": [
    "<p style=\"text-align: center; font-size: 12px\"> Trainer: Rajesh Jakhotia  </p>\n",
    "<p style=\"text-align: center; font-size: 12px\"> ar.jakhotia@k2analytics.co.in | 8939694874  </p>"
   ]
  },
  {
   "cell_type": "markdown",
   "metadata": {},
   "source": [
    "***\n",
    "# PYTHON Print & Input Functions\n",
    "# FString Formatting\n",
    "\n",
    "***"
   ]
  },
  {
   "cell_type": "markdown",
   "metadata": {},
   "source": [
    "### - **` Print() `**\n"
   ]
  },
  {
   "cell_type": "code",
   "execution_count": 1,
   "metadata": {},
   "outputs": [
    {
     "data": {
      "text/plain": [
       "'Hello World'"
      ]
     },
     "execution_count": 1,
     "metadata": {},
     "output_type": "execute_result"
    }
   ],
   "source": [
    "\"Hello World\""
   ]
  },
  {
   "cell_type": "code",
   "execution_count": 2,
   "metadata": {},
   "outputs": [],
   "source": [
    "b = \"Hello World\""
   ]
  },
  {
   "cell_type": "code",
   "execution_count": 3,
   "metadata": {},
   "outputs": [],
   "source": [
    "c = 10"
   ]
  },
  {
   "cell_type": "code",
   "execution_count": 4,
   "metadata": {},
   "outputs": [
    {
     "data": {
      "text/plain": [
       "10"
      ]
     },
     "execution_count": 4,
     "metadata": {},
     "output_type": "execute_result"
    }
   ],
   "source": [
    "b\n",
    "c"
   ]
  },
  {
   "cell_type": "code",
   "execution_count": 5,
   "metadata": {},
   "outputs": [
    {
     "name": "stdout",
     "output_type": "stream",
     "text": [
      "Hello World\n",
      "10\n"
     ]
    }
   ],
   "source": [
    "print(b)\n",
    "print(c)"
   ]
  },
  {
   "cell_type": "code",
   "execution_count": 6,
   "metadata": {},
   "outputs": [
    {
     "name": "stdout",
     "output_type": "stream",
     "text": [
      "Hello World~10.I am learning Python\n"
     ]
    }
   ],
   "source": [
    "print(b,c, sep = \"~\", end = \".\") ### ~ it is pronounced as tilda\n",
    "# print(b,c, sep = \"~\", end = \"\\n\") ### \\n viz New Line is the default value of end argument\n",
    "\n",
    "print(\"I am learning Python\")"
   ]
  },
  {
   "cell_type": "code",
   "execution_count": 7,
   "metadata": {},
   "outputs": [
    {
     "name": "stdout",
     "output_type": "stream",
     "text": [
      "1*2*3*4\n"
     ]
    }
   ],
   "source": [
    "print(1, 2, 3, 4, sep='*') ## Shift + Tab Key to open the documentation"
   ]
  },
  {
   "cell_type": "code",
   "execution_count": 8,
   "metadata": {},
   "outputs": [
    {
     "name": "stdout",
     "output_type": "stream",
     "text": [
      "1#2#3#4&"
     ]
    }
   ],
   "source": [
    "print(1, 2, 3, 4, sep = '#', end = '&')"
   ]
  },
  {
   "cell_type": "markdown",
   "metadata": {},
   "source": [
    "###  **` Output formatting `**\n",
    "***\n",
    "<font color = #318CE7 size = 3 >\n",
    "    \n",
    "- Sometimes we would like to format our output to make it look attractive. \n",
    "- This can be done by using the str.format() method. This method is visible to any string object.\n",
    "- Here the curly braces {} are used as placeholders. \n",
    "- We can specify the order in which it is printed by using numbers (tuple index).\n",
    "<font>"
   ]
  },
  {
   "cell_type": "code",
   "execution_count": 9,
   "metadata": {},
   "outputs": [
    {
     "name": "stdout",
     "output_type": "stream",
     "text": [
      "First name is: Rajesh ,and second name is: Jakhotia\n",
      "First name is: Rajesh, and second name is: Jakhotia\n",
      "First name is: Rajesh, and second name is: Jakhotia\n"
     ]
    }
   ],
   "source": [
    "fn = 'Rajesh'\n",
    "ln = 'Jakhotia'\n",
    "\n",
    "print(\"First name is:\", fn, \",and second name is:\", ln) \n",
    "print(\"First name is: {}, and second name is: {}\".format( fn, ln))\n",
    "print(\"First name is: {fname}, and second name is: {lname}\".format( fname = fn, lname = ln))\n",
    "\n"
   ]
  },
  {
   "cell_type": "markdown",
   "metadata": {},
   "source": [
    "### F-Strings\n",
    "F-strings allow direct embedding of expressions within the string, making the code more straightforward and easier to understand"
   ]
  },
  {
   "cell_type": "code",
   "execution_count": 10,
   "metadata": {},
   "outputs": [
    {
     "name": "stdout",
     "output_type": "stream",
     "text": [
      "First name is: Rajesh, and second name is: Jakhotia\n"
     ]
    }
   ],
   "source": [
    "print(f\"First name is: {fn}, and second name is: {ln}\")"
   ]
  },
  {
   "cell_type": "markdown",
   "metadata": {},
   "source": [
    "### - **` Input() `**\n",
    "- Input function helps show a prompt to get user input\n",
    "- Data Type of Input value is always String"
   ]
  },
  {
   "cell_type": "code",
   "execution_count": 11,
   "metadata": {},
   "outputs": [
    {
     "name": "stdin",
     "output_type": "stream",
     "text": [
      " 10\n"
     ]
    },
    {
     "data": {
      "text/plain": [
       "'10'"
      ]
     },
     "execution_count": 11,
     "metadata": {},
     "output_type": "execute_result"
    }
   ],
   "source": [
    "input() # returns string"
   ]
  },
  {
   "cell_type": "code",
   "execution_count": 12,
   "metadata": {},
   "outputs": [
    {
     "name": "stdin",
     "output_type": "stream",
     "text": [
      "Enter a Number:  10\n"
     ]
    }
   ],
   "source": [
    "num = input('Enter a Number: ')"
   ]
  },
  {
   "cell_type": "code",
   "execution_count": 13,
   "metadata": {},
   "outputs": [
    {
     "data": {
      "text/plain": [
       "'10'"
      ]
     },
     "execution_count": 13,
     "metadata": {},
     "output_type": "execute_result"
    }
   ],
   "source": [
    "num"
   ]
  },
  {
   "cell_type": "code",
   "execution_count": 14,
   "metadata": {},
   "outputs": [
    {
     "data": {
      "text/plain": [
       "'10101010101010101010'"
      ]
     },
     "execution_count": 14,
     "metadata": {},
     "output_type": "execute_result"
    }
   ],
   "source": [
    "num * 10 "
   ]
  },
  {
   "cell_type": "markdown",
   "metadata": {},
   "source": [
    "### The above output is because of Operator Overloading\n",
    "- \\* is an Arithmetic Operator\n",
    "- If you use * with 2 numeric values it will do the multiplication\n",
    "- However, if you use it with String.... it repeats the string n (in this case n is 10) number of times"
   ]
  },
  {
   "cell_type": "code",
   "execution_count": 15,
   "metadata": {},
   "outputs": [
    {
     "data": {
      "text/plain": [
       "'10Character'"
      ]
     },
     "execution_count": 15,
     "metadata": {},
     "output_type": "execute_result"
    }
   ],
   "source": [
    "num + 'Character' "
   ]
  },
  {
   "cell_type": "markdown",
   "metadata": {},
   "source": [
    "### The + Operator in above code is concatenating two strings. This is again an example of Operator Overloading\n",
    "- \\+ is an Arithmetic Operator... it should do addition\n",
    "- However, if it gets 2 characters as input, the + symbo works as Concatenation"
   ]
  },
  {
   "cell_type": "markdown",
   "metadata": {},
   "source": [
    "### Casting String to Integer"
   ]
  },
  {
   "cell_type": "code",
   "execution_count": 16,
   "metadata": {},
   "outputs": [
    {
     "data": {
      "text/plain": [
       "10"
      ]
     },
     "execution_count": 16,
     "metadata": {},
     "output_type": "execute_result"
    }
   ],
   "source": [
    "int(num)  # Evaluate"
   ]
  },
  {
   "cell_type": "code",
   "execution_count": 17,
   "metadata": {},
   "outputs": [
    {
     "data": {
      "text/plain": [
       "50"
      ]
     },
     "execution_count": 17,
     "metadata": {},
     "output_type": "execute_result"
    }
   ],
   "source": [
    "int(num) * 5"
   ]
  },
  {
   "cell_type": "markdown",
   "metadata": {},
   "source": [
    "# Python Operators\n",
    "***\n"
   ]
  },
  {
   "cell_type": "markdown",
   "metadata": {},
   "source": [
    "### - **` Arithmetic Operators `**\n",
    "***\n",
    "<font color = #318CE7 size = 3 >\n",
    "\n",
    "- Arithmetic operators are used to perform mathematical operations like addition, subtraction, multiplication etc.\n",
    "\n",
    "Operator | Meaning | Example\n",
    "--- | --- | ---\n",
    "\\+ | Add two operands or unary plus | x + y + 2\n",
    "\\- |\tSubtract right operand from the left or unary minus | x - y -  2\n",
    "\\* | Multiply two operands | x * y\n",
    "\\/ | Divide left operand by the right one (always results into float) | x / y\n",
    "\\% | Modulus - remainder of the division of left operand by the right |  x % y (remainder of x/y)\n",
    "// | Floor division - division that results into whole number adjusted to the left in the number line | x // y\n",
    "** | Exponent - left operand raised to the power of right | x**y (x to the power y)\n",
    "\n",
    "<font>\n",
    "    \n",
    "***"
   ]
  },
  {
   "cell_type": "code",
   "execution_count": 18,
   "metadata": {},
   "outputs": [
    {
     "data": {
      "text/plain": [
       "8"
      ]
     },
     "execution_count": 18,
     "metadata": {},
     "output_type": "execute_result"
    }
   ],
   "source": [
    "2**3"
   ]
  },
  {
   "cell_type": "code",
   "execution_count": 19,
   "metadata": {},
   "outputs": [
    {
     "name": "stdout",
     "output_type": "stream",
     "text": [
      "x + y = 12\n",
      "x - y = 4\n",
      "x * y = 32\n",
      "x / y = 2.0\n",
      "x // y = 2\n",
      "x ** y = 4096\n"
     ]
    }
   ],
   "source": [
    "x = 8\n",
    "y = 4\n",
    "\n",
    "print('x + y =',x+y)\n",
    "\n",
    "print('x - y =',x-y)\n",
    "\n",
    "print('x * y =',x*y)\n",
    "\n",
    "print('x / y =',x/y)\n",
    "\n",
    "print('x // y =',x//y)\n",
    "\n",
    "print('x ** y =',x**y)"
   ]
  },
  {
   "cell_type": "markdown",
   "metadata": {},
   "source": [
    "### - **` Comparison (Relational) Operators `**\n",
    "***\n",
    "<font color = #318CE7 size = 3 >\n",
    " \n",
    "- Comparison operators are used to compare values. It either returns `True` or `False` according to the condition.\n",
    "\n",
    "Operator | Meaning | Example\n",
    "--- | --- | ---\n",
    "\\> | Greater that - True if left operand is greater than the right | x > y\n",
    "\\< | Less that - True if left operand is less than the right | x < y\n",
    "== | Equal to - True if both operands are equal | x == y\n",
    "!= | Not equal to - True if operands are not equal | x != y\n",
    "\\>= | Greater than or equal to - True if left operand is greater than or equal to the right | x >= y\n",
    "\\<= | Less than or equal to - True if left operand is less than or equal to the right | x <= y\n",
    "\n",
    "<font>\n",
    "    \n",
    "***"
   ]
  },
  {
   "cell_type": "code",
   "execution_count": 20,
   "metadata": {},
   "outputs": [
    {
     "name": "stdout",
     "output_type": "stream",
     "text": [
      "x > y  is False\n",
      "x < y  is True\n",
      "x == y is False\n",
      "x != y is True\n",
      "x >= y is False\n",
      "x <= y is True\n"
     ]
    }
   ],
   "source": [
    "x = 6\n",
    "y = 8\n",
    "\n",
    "print('x > y  is',x>y)\n",
    "\n",
    "print('x < y  is',x<y)\n",
    "\n",
    "print('x == y is',x==y)\n",
    "\n",
    "print('x != y is',x!=y)\n",
    "\n",
    "print('x >= y is',x>=y)\n",
    "\n",
    "print('x <= y is',x<=y)"
   ]
  },
  {
   "cell_type": "markdown",
   "metadata": {},
   "source": [
    "### - **` Logical (Boolean) Operators `**\n",
    "***\n",
    "<font color = #318CE7 size = 3 >\n",
    "    \n",
    "- Logical operators are the and, or, not operators.\n",
    "\n",
    "Operator | Meaning | Example\n",
    "--- | --- | ---\n",
    "and\t| True if both the operands are true |\tx and y\n",
    "or\t| True if either of the operands is true |\tx or y\n",
    "not\t| True if operand is false (complements the operand) | not x\n",
    "\n",
    "<font>\n",
    "    \n",
    "***"
   ]
  },
  {
   "cell_type": "markdown",
   "metadata": {},
   "source": [
    "####  **` AND - MULTIPLICATION `**"
   ]
  },
  {
   "cell_type": "code",
   "execution_count": 21,
   "metadata": {},
   "outputs": [
    {
     "name": "stdout",
     "output_type": "stream",
     "text": [
      "True\n",
      "False\n",
      "False\n",
      "False\n"
     ]
    }
   ],
   "source": [
    "print(True  and True)\n",
    "print(True  and False)\n",
    "print(False and True)\n",
    "print(False and False)"
   ]
  },
  {
   "cell_type": "markdown",
   "metadata": {},
   "source": [
    "####  **` OR - ADDITION `**"
   ]
  },
  {
   "cell_type": "code",
   "execution_count": 22,
   "metadata": {},
   "outputs": [
    {
     "name": "stdout",
     "output_type": "stream",
     "text": [
      "True\n",
      "True\n",
      "True\n",
      "False\n"
     ]
    }
   ],
   "source": [
    "print(True  or True)\n",
    "print(True  or False)\n",
    "print(False or True)\n",
    "print(False or False)"
   ]
  },
  {
   "cell_type": "code",
   "execution_count": 23,
   "metadata": {},
   "outputs": [
    {
     "name": "stdout",
     "output_type": "stream",
     "text": [
      "x and y is False\n",
      "x or y is True\n",
      "not x is False\n"
     ]
    }
   ],
   "source": [
    "x = True\n",
    "y = False\n",
    "\n",
    "print('x and y is',x and y)\n",
    "\n",
    "print('x or y is',x or y)\n",
    "\n",
    "print('not x is',not x)"
   ]
  },
  {
   "cell_type": "markdown",
   "metadata": {},
   "source": [
    "### - **` Bitwise Operators `**\n",
    "***\n",
    "<font color = #318CE7 size = 3 >\n",
    "    \n",
    "- Bitwise operators act on operands as if they were string of binary digits. \n",
    "- It operates bit by bit, hence the name.\n",
    "- For example, 2 is `10` in binary and 7 is `111`.\n",
    "- In the table below: Let `x` = 10 (`0000 1010` in binary) and `y` = 4 (`0000 0100` in binary)\n",
    "\n",
    "Operator | Meaning | Example\n",
    "--- | --- | ---\n",
    "&   | Bitwise AND\t| x& y = 0 (0000 0000)\n",
    "|   | Bitwise OR    | x | y = 14 (0000 1110)\n",
    "~   | Bitwise NOT\t| ~x = -11 (1111 0101)\n",
    "^   | Bitwise XOR\t| x ^ y = 14 (0000 1110)\n",
    "\\>>  | Bitwise right shift | x>> 2 = 2 (0000 0010)\n",
    "\\<<  | Bitwise left shift  | x<< 2 = 40 (0010 1000)\n",
    "\n",
    "<font>\n",
    "    \n",
    "***"
   ]
  },
  {
   "cell_type": "code",
   "execution_count": 24,
   "metadata": {},
   "outputs": [
    {
     "name": "stdout",
     "output_type": "stream",
     "text": [
      "If condition is TRUE\n"
     ]
    }
   ],
   "source": [
    "x = 4\n",
    "y = 5\n",
    "if (x == 4) & (y == 5):\n",
    "    print(\"If condition is TRUE\")"
   ]
  },
  {
   "cell_type": "code",
   "execution_count": 25,
   "metadata": {},
   "outputs": [
    {
     "name": "stdout",
     "output_type": "stream",
     "text": [
      "If condition is TRUE\n"
     ]
    }
   ],
   "source": [
    "if (x == 4) and (y == 5):\n",
    "    print(\"If condition is TRUE\")"
   ]
  },
  {
   "cell_type": "code",
   "execution_count": 26,
   "metadata": {},
   "outputs": [
    {
     "name": "stdout",
     "output_type": "stream",
     "text": [
      "It is False\n"
     ]
    }
   ],
   "source": [
    "if (True and True):\n",
    "    print(\"It is False\")"
   ]
  },
  {
   "cell_type": "markdown",
   "metadata": {},
   "source": [
    "### - **` Assignment Operators `**\n",
    "***\n",
    "<font color = #318CE7 size = 3 >\n",
    "    \n",
    "- Assignment operators are used in Python to assign values to variables.\n",
    "- `a = 5` is a simple assignment operator that assigns the value 5 on the right to the variable `a` on the left.\n",
    "- There are various compound operators in Python like `a += 5` that adds to the variable and later assigns the same. It is equivalent to `a = a + 5`.\n",
    "\n",
    "Operator | Meaning | Example\n",
    "---   | ---     | ---\n",
    "=\t  | x = 5\t|x = 5\n",
    "+=\t  | x += 5\t| x = x + 5\n",
    "-=\t  | x -= 5\t| x = x - 5\n",
    "*=\t  | x *= 5\t| x = x * 5\n",
    "/=\t  | x /= 5\t| x = x / 5\n",
    "%=\t  | x %= 5\t| x = x % 5\n",
    "//=\t  | x //= 5\t| x = x // 5\n",
    "**=\t  | x **= 5\t| x = x ** 5\n",
    "&=\t  | x &= 5\t| x = x & 5\n",
    "|=\t  | x |= 5\t| x = x | 5\n",
    "^=\t  | x ^= 5\t| x = x ^ 5\n",
    "\\>>=\t  | x >>= 5\t| x = x >> 5\n",
    "\\<<=\t  | x <<= 5\t| x = x << 5\n",
    "\n",
    "<font>\n",
    "    \n",
    "***"
   ]
  },
  {
   "cell_type": "code",
   "execution_count": 27,
   "metadata": {},
   "outputs": [
    {
     "name": "stdout",
     "output_type": "stream",
     "text": [
      "4\n"
     ]
    }
   ],
   "source": [
    "x = 12\n",
    "x &= 5\n",
    "print(x)"
   ]
  },
  {
   "cell_type": "code",
   "execution_count": 28,
   "metadata": {},
   "outputs": [
    {
     "data": {
      "text/plain": [
       "30"
      ]
     },
     "execution_count": 28,
     "metadata": {},
     "output_type": "execute_result"
    }
   ],
   "source": [
    "x = 10\n",
    "x += 20   # x = x + 20\n",
    "x"
   ]
  },
  {
   "cell_type": "markdown",
   "metadata": {},
   "source": [
    "### - **` Identity Operator `**\n",
    "***\n",
    "<font color = #318CE7 size = 3 >\n",
    "    \n",
    "- `is` and `is not` are the identity operators in Python. \n",
    "- They are used to check if two values (or variables) are located on the same part of the memory. \n",
    "- Two variables that are equal does not imply that they are identical.\n",
    "\n",
    "Operator | Meaning | Example\n",
    "--- | --- | ---\n",
    "is  | True if the operands are identical (refer to the same object) | x is True\n",
    "is not | True if the operands are not identical (do not refer to the same object) | x is not True\n",
    "\n",
    "<font>\n",
    "    \n",
    "***"
   ]
  },
  {
   "cell_type": "code",
   "execution_count": 29,
   "metadata": {},
   "outputs": [
    {
     "name": "stdout",
     "output_type": "stream",
     "text": [
      "True\n",
      "False\n"
     ]
    }
   ],
   "source": [
    "x1 = 5\n",
    "y1 = 5\n",
    "\n",
    "x2 = [1,2,3]\n",
    "y2 = [1,2,3]\n",
    "\n",
    "print(x1 is y1)\n",
    "\n",
    "print(x2 is y2)\n"
   ]
  },
  {
   "cell_type": "markdown",
   "metadata": {},
   "source": [
    "### - **` Membership Operator `**\n",
    "***\n",
    "<font color = #318CE7 size = 3 >\n",
    "    \n",
    "- `in` and `not in` are the membership operators in Python. \n",
    "- They are used to test whether a value or variable is found in a sequence (string, list, tuple, set and dictionary).\n",
    "- In a dictionary we can only test for presence of key, not the value.\n",
    "\n",
    "Operator | Meaning | Example\n",
    "--- | --- | ---\n",
    "in\t| True if value/variable is found in the sequence | 5 in x\n",
    "not in |\tTrue if value/variable is not found in the sequence | 5 not in x\n",
    "\n",
    "<font>\n",
    "    \n",
    "***"
   ]
  },
  {
   "cell_type": "code",
   "execution_count": 30,
   "metadata": {},
   "outputs": [
    {
     "name": "stdout",
     "output_type": "stream",
     "text": [
      "True\n",
      "False\n",
      "True\n"
     ]
    }
   ],
   "source": [
    "x = 'Hello world'\n",
    "print('H' in x)\n",
    "print('Hello' not in x)\n",
    "\n",
    "\n",
    "y = {'apple', 'mango', 'chickoo'}\n",
    "print('apple' in y)"
   ]
  },
  {
   "cell_type": "markdown",
   "metadata": {},
   "source": [
    "### - **` Operators precedence `**\n",
    "***\n",
    "<font color = #318CE7 size = 3 >\n",
    "\n",
    "- The combination of values, variables, operators and function calls is termed as an expression. \n",
    "- Python interpreter can evaluate a valid expression.\n",
    "- For eg: `5 - 7` is an expression. There can be more than one operator in an expression.\n",
    "- Here `10 - 4 * 2`, multiplication has higher precedence than subtraction.\n",
    "- But we can change this order using parentheses () as it has higher precedence `(10 - 4) * 2`.\n",
    "- The operator precedence in Python are listed in the following table. \n",
    "- It is in descending order, upper group has higher precedence than the lower ones.\n",
    "\n",
    "Operator | Meaning |\n",
    "-------- | ------- |\n",
    "()       | Parentheses\n",
    "**       | Exponent\n",
    "+x, -x, ~x | Unary plus, Unary minus, Bitwise NOT\n",
    "*, /, //, % | Multiplication, Division, Floor division, Modulus\n",
    "+, - | Addition, Subtraction\n",
    "<<, >> | Bitwise shift operators\n",
    "&       | Bitwise AND\n",
    "^       | Bitwise XOR\n",
    "\\|       | Bitwise OR\n",
    "==, !=, >, >=, <, <=, is, is not, in, not in | Comparisions, Identity, Membership operators\n",
    "not | Logical NOT\n",
    "and | Logical AND\n",
    "or | Logical OR\n",
    "\n",
    "<font>\n"
   ]
  },
  {
   "cell_type": "code",
   "execution_count": 31,
   "metadata": {},
   "outputs": [
    {
     "data": {
      "text/plain": [
       "True"
      ]
     },
     "execution_count": 31,
     "metadata": {},
     "output_type": "execute_result"
    }
   ],
   "source": [
    "True | False"
   ]
  },
  {
   "cell_type": "markdown",
   "metadata": {},
   "source": [
    "___\n",
    "<a href='https://www.k2analytics.co.in'> <img src='K2_Logo.jpg' alt=\"https://k2analytics.co.in\" style=\"width:300px\" /></a>\n",
    "***"
   ]
  }
 ],
 "metadata": {
  "kernelspec": {
   "display_name": "Python 3 (ipykernel)",
   "language": "python",
   "name": "python3"
  },
  "language_info": {
   "codemirror_mode": {
    "name": "ipython",
    "version": 3
   },
   "file_extension": ".py",
   "mimetype": "text/x-python",
   "name": "python",
   "nbconvert_exporter": "python",
   "pygments_lexer": "ipython3",
   "version": "3.11.7"
  }
 },
 "nbformat": 4,
 "nbformat_minor": 4
}
