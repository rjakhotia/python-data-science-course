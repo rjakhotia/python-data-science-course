{
 "cells": [
  {
   "cell_type": "markdown",
   "metadata": {},
   "source": [
    "## Types of Errors\n",
    "- Syntax Errors\n",
    "- Logical Errors\n",
    "- Runtime Errors (Exceptions)\n",
    "\n",
    "## Exception Handling\n",
    "- try except"
   ]
  },
  {
   "cell_type": "markdown",
   "metadata": {},
   "source": [
    "### Syntax\n",
    "- In languages like English, Hindi, etc, the Syntax means the order or arrangement of words and phrases to form proper sentences.\n",
    "- In programming languages, the Syntax is the structure of statements in a computer language.\n",
    "\n",
    "### Syntax Error \n",
    "- In programming language, if the Syntax of the code is not proper then the interpreter / compiler raises an error called Syntax Error\n",
    "\n",
    "### Common Examples of Syntax Error in Python\n",
    "- Misusing the Assignment Operator (=)\n",
    "- Misspelling, Missing, or Misusing Python Keywords.\n",
    "- Missing Parentheses, Brackets, and Quotes.\n",
    "- Using the Wrong Indentation."
   ]
  },
  {
   "cell_type": "code",
   "execution_count": 1,
   "metadata": {},
   "outputs": [
    {
     "ename": "SyntaxError",
     "evalue": "invalid syntax. Maybe you meant '==' or ':=' instead of '='? (2843696779.py, line 2)",
     "output_type": "error",
     "traceback": [
      "\u001b[1;36m  Cell \u001b[1;32mIn[1], line 2\u001b[1;36m\u001b[0m\n\u001b[1;33m    if a = None: ## Equal to comparison is done using double equal to symbol (i.e. ==)\u001b[0m\n\u001b[1;37m       ^\u001b[0m\n\u001b[1;31mSyntaxError\u001b[0m\u001b[1;31m:\u001b[0m invalid syntax. Maybe you meant '==' or ':=' instead of '='?\n"
     ]
    }
   ],
   "source": [
    "a = None\n",
    "if a = None: ## Equal to comparison is done using double equal to symbol (i.e. ==)\n",
    "    print (\"A is None\")"
   ]
  },
  {
   "cell_type": "markdown",
   "metadata": {},
   "source": [
    "### Python Keywords\n",
    "Python keywords are special reserved words that have specific meanings and purposes and can’t be used for anything but those specific purposes. These keywords are always available—you’ll never have to import them into your code.\n",
    "\n",
    "#### List of Python Key Words\n",
    "\n",
    "- False\t await  else  import  pass \n",
    "- None\tbreak\texcept\tin\traise\n",
    "- True\tclass\tfinally\tis\treturn\n",
    "- and\tcontinue\tfor\tlambda\ttry\n",
    "- as\tdef\tfrom\tnonlocal\twhile\n",
    "- assert\tdel\tglobal\tnot\twith\n",
    "- async\telif\tif\tor\tyield"
   ]
  },
  {
   "cell_type": "code",
   "execution_count": 2,
   "metadata": {},
   "outputs": [
    {
     "ename": "SyntaxError",
     "evalue": "invalid syntax (2188784829.py, line 1)",
     "output_type": "error",
     "traceback": [
      "\u001b[1;36m  Cell \u001b[1;32mIn[2], line 1\u001b[1;36m\u001b[0m\n\u001b[1;33m    class = \"Error - class is a keyword hence cannot be used as a variable name\" # Trying to use Reserved Word as a variable leads to Syntax Error\u001b[0m\n\u001b[1;37m          ^\u001b[0m\n\u001b[1;31mSyntaxError\u001b[0m\u001b[1;31m:\u001b[0m invalid syntax\n"
     ]
    }
   ],
   "source": [
    "class = \"Error - class is a keyword hence cannot be used as a variable name\" # Trying to use Reserved Word as a variable leads to Syntax Error"
   ]
  },
  {
   "cell_type": "code",
   "execution_count": 3,
   "metadata": {},
   "outputs": [
    {
     "ename": "SyntaxError",
     "evalue": "incomplete input (3236301325.py, line 2)",
     "output_type": "error",
     "traceback": [
      "\u001b[1;36m  Cell \u001b[1;32mIn[3], line 2\u001b[1;36m\u001b[0m\n\u001b[1;33m    print(\"The brackets if not closed will give Syntax Error\"\u001b[0m\n\u001b[1;37m                                                             ^\u001b[0m\n\u001b[1;31mSyntaxError\u001b[0m\u001b[1;31m:\u001b[0m incomplete input\n"
     ]
    }
   ],
   "source": [
    "# Incomplete () [] {} closure will lead to syntax error\n",
    "print(\"The brackets if not closed will give Syntax Error\""
   ]
  },
  {
   "cell_type": "code",
   "execution_count": 4,
   "metadata": {},
   "outputs": [
    {
     "ename": "SyntaxError",
     "evalue": "unterminated string literal (detected at line 1) (3504863709.py, line 1)",
     "output_type": "error",
     "traceback": [
      "\u001b[1;36m  Cell \u001b[1;32mIn[4], line 1\u001b[1;36m\u001b[0m\n\u001b[1;33m    print(\"The closing quote is not there as such it will give syntax error')\u001b[0m\n\u001b[1;37m          ^\u001b[0m\n\u001b[1;31mSyntaxError\u001b[0m\u001b[1;31m:\u001b[0m unterminated string literal (detected at line 1)\n"
     ]
    }
   ],
   "source": [
    "print(\"The closing quote is not there as such it will give syntax error')"
   ]
  },
  {
   "cell_type": "code",
   "execution_count": 5,
   "metadata": {},
   "outputs": [
    {
     "ename": "IndentationError",
     "evalue": "expected an indented block after 'if' statement on line 2 (2069045603.py, line 3)",
     "output_type": "error",
     "traceback": [
      "\u001b[1;36m  Cell \u001b[1;32mIn[5], line 3\u001b[1;36m\u001b[0m\n\u001b[1;33m    print (\"Print should have been indented\")\u001b[0m\n\u001b[1;37m    ^\u001b[0m\n\u001b[1;31mIndentationError\u001b[0m\u001b[1;31m:\u001b[0m expected an indented block after 'if' statement on line 2\n"
     ]
    }
   ],
   "source": [
    "a = None\n",
    "if a == None: \n",
    "print (\"Print should have been indented\")\n",
    "print(\"second statement\")\n",
    "## Indentation Syntax Error"
   ]
  },
  {
   "cell_type": "markdown",
   "metadata": {},
   "source": [
    "## Logical Errors\n",
    "- The error that occurs because of the mistake in program's logic\n",
    "- Logical Errors leads to wrong output or unitended results\n",
    "- Sometimes, it becomes difficult to resolve the logical errors as it does not raise any Syntax / Runtime Error"
   ]
  },
  {
   "cell_type": "code",
   "execution_count": 6,
   "metadata": {},
   "outputs": [
    {
     "name": "stdin",
     "output_type": "stream",
     "text": [
      "Please enter the dividend:  100\n",
      "Please enter the divisor:  25\n"
     ]
    },
    {
     "name": "stdout",
     "output_type": "stream",
     "text": [
      "The quotient is  0\n"
     ]
    }
   ],
   "source": [
    "dividend = float(input(\"Please enter the dividend: \"))\n",
    "divisor = float(input(\"Please enter the divisor: \"))\n",
    "quotient = divisor / dividend    # Logical Error\n",
    "quotient_rounded = round(quotient)\n",
    "\n",
    "print(\"The quotient is \", quotient_rounded)"
   ]
  },
  {
   "cell_type": "markdown",
   "metadata": {},
   "source": [
    "## Runtime Errors (Exceptions)\n",
    "- The error that occurs at runtime, probably due to reasons like insufficient memory, erroneous input detected, mathematical calculation error occuring like divide by zero error.\n",
    "- The programming statement is syntatically correct as such the runtime error is not detected at the time of code interpretation. These errors get detected at time of execution and can lead to sudden exit of the program if not handled in try-catch block"
   ]
  },
  {
   "cell_type": "markdown",
   "metadata": {},
   "source": [
    "#### Some examples of Python runtime errors:\n",
    "\n",
    "- division by zero\n",
    "- performing an operation on incompatible types\n",
    "- using an identifier which has not been defined\n",
    "- accessing a list element, dictionary value or object attribute which doesn’t exist\n",
    "- trying to access a file which doesn’t exist"
   ]
  },
  {
   "cell_type": "code",
   "execution_count": 7,
   "metadata": {},
   "outputs": [
    {
     "name": "stdin",
     "output_type": "stream",
     "text": [
      "Enter a value for dividend: 100\n",
      "Enter the divisor 0\n"
     ]
    },
    {
     "ename": "ZeroDivisionError",
     "evalue": "float division by zero",
     "output_type": "error",
     "traceback": [
      "\u001b[1;31m---------------------------------------------------------------------------\u001b[0m",
      "\u001b[1;31mZeroDivisionError\u001b[0m                         Traceback (most recent call last)",
      "Cell \u001b[1;32mIn[7], line 3\u001b[0m\n\u001b[0;32m      1\u001b[0m dividend \u001b[38;5;241m=\u001b[39m \u001b[38;5;28mfloat\u001b[39m(\u001b[38;5;28minput\u001b[39m(\u001b[38;5;124m\"\u001b[39m\u001b[38;5;124mEnter a value for dividend:\u001b[39m\u001b[38;5;124m\"\u001b[39m))\n\u001b[0;32m      2\u001b[0m divisor \u001b[38;5;241m=\u001b[39m \u001b[38;5;28mfloat\u001b[39m(\u001b[38;5;28minput\u001b[39m(\u001b[38;5;124m\"\u001b[39m\u001b[38;5;124mEnter the divisor\u001b[39m\u001b[38;5;124m\"\u001b[39m)) \u001b[38;5;66;03m# if you enter 0 it will lead to runtime error\u001b[39;00m\n\u001b[1;32m----> 3\u001b[0m ratio \u001b[38;5;241m=\u001b[39m dividend \u001b[38;5;241m/\u001b[39m divisor\n\u001b[0;32m      5\u001b[0m \u001b[38;5;28mprint\u001b[39m(\u001b[38;5;124m\"\u001b[39m\u001b[38;5;124mthe ratio is :\u001b[39m\u001b[38;5;124m\"\u001b[39m , ratio)\n",
      "\u001b[1;31mZeroDivisionError\u001b[0m: float division by zero"
     ]
    }
   ],
   "source": [
    "dividend = float(input(\"Enter a value for dividend:\"))\n",
    "divisor = float(input(\"Enter the divisor\")) # if you enter 0 it will lead to runtime error\n",
    "ratio = dividend / divisor\n",
    "    \n",
    "print(\"the ratio is :\" , ratio) ### try - catch "
   ]
  },
  {
   "cell_type": "markdown",
   "metadata": {},
   "source": [
    "### Note: In below code we are not converting the input value to float"
   ]
  },
  {
   "cell_type": "code",
   "execution_count": 8,
   "metadata": {},
   "outputs": [
    {
     "name": "stdin",
     "output_type": "stream",
     "text": [
      "Enter a value for dividend: 100\n",
      "Enter the divisor 24\n"
     ]
    },
    {
     "ename": "TypeError",
     "evalue": "unsupported operand type(s) for /: 'str' and 'str'",
     "output_type": "error",
     "traceback": [
      "\u001b[1;31m---------------------------------------------------------------------------\u001b[0m",
      "\u001b[1;31mTypeError\u001b[0m                                 Traceback (most recent call last)",
      "Cell \u001b[1;32mIn[8], line 3\u001b[0m\n\u001b[0;32m      1\u001b[0m dividend \u001b[38;5;241m=\u001b[39m \u001b[38;5;28minput\u001b[39m(\u001b[38;5;124m\"\u001b[39m\u001b[38;5;124mEnter a value for dividend:\u001b[39m\u001b[38;5;124m\"\u001b[39m)\n\u001b[0;32m      2\u001b[0m divisor \u001b[38;5;241m=\u001b[39m \u001b[38;5;28minput\u001b[39m(\u001b[38;5;124m\"\u001b[39m\u001b[38;5;124mEnter the divisor\u001b[39m\u001b[38;5;124m\"\u001b[39m) \n\u001b[1;32m----> 3\u001b[0m ratio \u001b[38;5;241m=\u001b[39m dividend \u001b[38;5;241m/\u001b[39m divisor\n",
      "\u001b[1;31mTypeError\u001b[0m: unsupported operand type(s) for /: 'str' and 'str'"
     ]
    }
   ],
   "source": [
    "dividend = input(\"Enter a value for dividend:\")\n",
    "divisor = input(\"Enter the divisor\") \n",
    "ratio = dividend / divisor "
   ]
  },
  {
   "cell_type": "markdown",
   "metadata": {},
   "source": [
    "### try except for exception handling\n",
    "```python\n",
    "try:\n",
    "    <\"business logic code comes here\">\n",
    "except:\n",
    "    <\"exception handling code comes here\">\n",
    "else:\n",
    "    <\"else is optional and will get executed only when there is no exception\">\n",
    "finally:\n",
    "    <\"finally is also optional\">\n",
    "    <\"The code in finally will get executed irrespective of whether there is exception or not\">\n",
    "```"
   ]
  },
  {
   "cell_type": "markdown",
   "metadata": {},
   "source": [
    "### Types of Exceptions\n",
    "- BaseException: Base class for all exceptions\n",
    "- Exception: Class to create user defined exceptions\n",
    "- ArithmeticError: Handles arithmetic exceptions - OverflowError, ZeroDivisionError, FloatingPointError\n",
    "- BufferError: Error when buffering operations cannot be performed\n",
    "- LookupError: Error when index or key used for lookup is not present\n",
    "- AssertionError: When assert statement fails\n",
    "- AttributeError: Error when a reference to non-existing attribute is made\n",
    "- EOFError: Error when trying to read data but End of File has reached, i.e. no more data to read\n",
    "- ImportError: A package being imported is not existing\n",
    "- NameError: A variable being referenced is not existing\n",
    "- SyntaxError: A syntax being parsed in eval() function is erroneous\n",
    "- TypeError: An operation being applied on an object having inappropriate datatype value\n",
    "- ValueError: Error occurs when a wrong datatype value is passed to a function\n",
    "- .... there are some types of inbuilt errors"
   ]
  },
  {
   "cell_type": "code",
   "execution_count": 9,
   "metadata": {},
   "outputs": [
    {
     "name": "stdin",
     "output_type": "stream",
     "text": [
      "Enter the Property Value:  Thousand\n"
     ]
    },
    {
     "name": "stdout",
     "output_type": "stream",
     "text": [
      "Wrong Value has been provided \n",
      "\n",
      "Finally will be excecuted irrespective of error or no error \n",
      "\n"
     ]
    }
   ],
   "source": [
    "try:\n",
    "    num1 = int(input(\"Enter the Property Value: \"))\n",
    "    num2 = int(input(\"Enter the Loan Amount: \"))\n",
    "    print(\"--------------------------\",\"\\n\")\n",
    "    ltv = num2 / num1\n",
    "    \n",
    "except ZeroDivisionError:\n",
    "    print(\"Divide by Zero Error has occured\", \"\\n\")\n",
    "except ValueError:\n",
    "    print(\"Wrong Value has been provided\", \"\\n\")\n",
    "except:\n",
    "    print(\"This is catch-all exception\", \"\\n\")\n",
    "else:\n",
    "    print(\"Else will execute only if there is no error in try block\", \"\\n\")\n",
    "finally:\n",
    "    print(\"Finally will be excecuted irrespective of error or no error\", \"\\n\")\n",
    "    "
   ]
  },
  {
   "cell_type": "markdown",
   "metadata": {
    "jp-MarkdownHeadingCollapsed": true
   },
   "source": [
    "### Thank you"
   ]
  }
 ],
 "metadata": {
  "kernelspec": {
   "display_name": "Python 3 (ipykernel)",
   "language": "python",
   "name": "python3"
  },
  "language_info": {
   "codemirror_mode": {
    "name": "ipython",
    "version": 3
   },
   "file_extension": ".py",
   "mimetype": "text/x-python",
   "name": "python",
   "nbconvert_exporter": "python",
   "pygments_lexer": "ipython3",
   "version": "3.11.7"
  }
 },
 "nbformat": 4,
 "nbformat_minor": 4
}
